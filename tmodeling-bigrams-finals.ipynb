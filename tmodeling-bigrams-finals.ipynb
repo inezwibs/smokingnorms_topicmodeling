{
 "cells": [
  {
   "cell_type": "code",
   "execution_count": 1,
   "metadata": {
    "scrolled": true
   },
   "outputs": [
    {
     "name": "stderr",
     "output_type": "stream",
     "text": [
      "[nltk_data] Downloading package stopwords to /home/inez/nltk_data...\n",
      "[nltk_data]   Package stopwords is already up-to-date!\n",
      "[nltk_data] Downloading package punkt to /home/inez/nltk_data...\n",
      "[nltk_data]   Package punkt is already up-to-date!\n"
     ]
    },
    {
     "data": {
      "text/html": [
       "<div>\n",
       "<style scoped>\n",
       "    .dataframe tbody tr th:only-of-type {\n",
       "        vertical-align: middle;\n",
       "    }\n",
       "\n",
       "    .dataframe tbody tr th {\n",
       "        vertical-align: top;\n",
       "    }\n",
       "\n",
       "    .dataframe thead th {\n",
       "        text-align: right;\n",
       "    }\n",
       "</style>\n",
       "<table border=\"1\" class=\"dataframe\">\n",
       "  <thead>\n",
       "    <tr style=\"text-align: right;\">\n",
       "      <th></th>\n",
       "      <th>0</th>\n",
       "      <th>1</th>\n",
       "      <th>2</th>\n",
       "      <th>3</th>\n",
       "      <th>4</th>\n",
       "      <th>5</th>\n",
       "      <th>6</th>\n",
       "      <th>7</th>\n",
       "      <th>8</th>\n",
       "      <th>9</th>\n",
       "      <th>...</th>\n",
       "      <th>990</th>\n",
       "      <th>991</th>\n",
       "      <th>992</th>\n",
       "      <th>993</th>\n",
       "      <th>994</th>\n",
       "      <th>995</th>\n",
       "      <th>996</th>\n",
       "      <th>997</th>\n",
       "      <th>998</th>\n",
       "      <th>999</th>\n",
       "    </tr>\n",
       "  </thead>\n",
       "  <tbody>\n",
       "    <tr>\n",
       "      <th>0</th>\n",
       "      <td>{'created_utc': 1514765030, 'selftext': '', 't...</td>\n",
       "      <td>{'created_utc': 1514765175, 'title': 'Empty Ju...</td>\n",
       "      <td>{'created_utc': 1514765208, 'selftext': 'Hey g...</td>\n",
       "      <td>{'created_utc': 1514765358, 'selftext': 'My co...</td>\n",
       "      <td>{'created_utc': 1514765775, 'selftext': '[remo...</td>\n",
       "      <td>{'created_utc': 1514766068, 'selftext': 'I jus...</td>\n",
       "      <td>{'created_utc': 1514766327, 'selftext': 'All, ...</td>\n",
       "      <td>{'created_utc': 1514767057, 'selftext': 'Just ...</td>\n",
       "      <td>{'created_utc': 1514767313, 'selftext': 'Hello...</td>\n",
       "      <td>{'created_utc': 1514767535, 'selftext': '[remo...</td>\n",
       "      <td>...</td>\n",
       "      <td>{'created_utc': 1515326842, 'title': '[WTS] Em...</td>\n",
       "      <td>{'created_utc': 1515327059, 'selftext': 'Hey g...</td>\n",
       "      <td>{'created_utc': 1515327448, 'selftext': '[remo...</td>\n",
       "      <td>{'created_utc': 1515328717, 'selftext': 'Hey g...</td>\n",
       "      <td>{'created_utc': 1515328896, 'selftext': 'I rea...</td>\n",
       "      <td>{'created_utc': 1515330004, 'selftext': '', 't...</td>\n",
       "      <td>{'created_utc': 1515333905, 'selftext': '', 't...</td>\n",
       "      <td>{'created_utc': 1515335453, 'selftext': '▓▓▓▓▓...</td>\n",
       "      <td>{'created_utc': 1515335616, 'selftext': 'Right...</td>\n",
       "      <td>{'created_utc': 1515336167, 'selftext': 'Hey a...</td>\n",
       "    </tr>\n",
       "  </tbody>\n",
       "</table>\n",
       "<p>1 rows × 1000 columns</p>\n",
       "</div>"
      ],
      "text/plain": [
       "                                                 0    \\\n",
       "0  {'created_utc': 1514765030, 'selftext': '', 't...   \n",
       "\n",
       "                                                 1    \\\n",
       "0  {'created_utc': 1514765175, 'title': 'Empty Ju...   \n",
       "\n",
       "                                                 2    \\\n",
       "0  {'created_utc': 1514765208, 'selftext': 'Hey g...   \n",
       "\n",
       "                                                 3    \\\n",
       "0  {'created_utc': 1514765358, 'selftext': 'My co...   \n",
       "\n",
       "                                                 4    \\\n",
       "0  {'created_utc': 1514765775, 'selftext': '[remo...   \n",
       "\n",
       "                                                 5    \\\n",
       "0  {'created_utc': 1514766068, 'selftext': 'I jus...   \n",
       "\n",
       "                                                 6    \\\n",
       "0  {'created_utc': 1514766327, 'selftext': 'All, ...   \n",
       "\n",
       "                                                 7    \\\n",
       "0  {'created_utc': 1514767057, 'selftext': 'Just ...   \n",
       "\n",
       "                                                 8    \\\n",
       "0  {'created_utc': 1514767313, 'selftext': 'Hello...   \n",
       "\n",
       "                                                 9    ...  \\\n",
       "0  {'created_utc': 1514767535, 'selftext': '[remo...  ...   \n",
       "\n",
       "                                                 990  \\\n",
       "0  {'created_utc': 1515326842, 'title': '[WTS] Em...   \n",
       "\n",
       "                                                 991  \\\n",
       "0  {'created_utc': 1515327059, 'selftext': 'Hey g...   \n",
       "\n",
       "                                                 992  \\\n",
       "0  {'created_utc': 1515327448, 'selftext': '[remo...   \n",
       "\n",
       "                                                 993  \\\n",
       "0  {'created_utc': 1515328717, 'selftext': 'Hey g...   \n",
       "\n",
       "                                                 994  \\\n",
       "0  {'created_utc': 1515328896, 'selftext': 'I rea...   \n",
       "\n",
       "                                                 995  \\\n",
       "0  {'created_utc': 1515330004, 'selftext': '', 't...   \n",
       "\n",
       "                                                 996  \\\n",
       "0  {'created_utc': 1515333905, 'selftext': '', 't...   \n",
       "\n",
       "                                                 997  \\\n",
       "0  {'created_utc': 1515335453, 'selftext': '▓▓▓▓▓...   \n",
       "\n",
       "                                                 998  \\\n",
       "0  {'created_utc': 1515335616, 'selftext': 'Right...   \n",
       "\n",
       "                                                 999  \n",
       "0  {'created_utc': 1515336167, 'selftext': 'Hey a...  \n",
       "\n",
       "[1 rows x 1000 columns]"
      ]
     },
     "execution_count": 1,
     "metadata": {},
     "output_type": "execute_result"
    }
   ],
   "source": [
    "import nltk\n",
    "import pandas as pd\n",
    "import re\n",
    "import numpy as np\n",
    "from pprint import pprint\n",
    "\n",
    "nltk.download('stopwords')\n",
    "nltk.download('punkt')\n",
    "from nltk.corpus import stopwords\n",
    "stop_words = stopwords.words('english')\n",
    "\n",
    "\n",
    "addedWords = 'created_utc','selftext','title','have', 'be', 'html', 'http', 'https', 'just', 'know', 'not'\n",
    "stop_words.extend(addedWords)\n",
    "\n",
    "\n",
    "\n",
    "df = pd.read_json('/home/inez/Documents/jupyternotebookfiles/jsonDumpSubmissionBigrams2.json')\n",
    "#10,010 records\n",
    "\n",
    "df.head(1)\n",
    "\n"
   ]
  },
  {
   "cell_type": "code",
   "execution_count": 2,
   "metadata": {},
   "outputs": [],
   "source": [
    "# Gensim\n",
    "import gensim\n",
    "import gensim.corpora as corpora\n",
    "from gensim.utils import simple_preprocess\n",
    "from gensim.models import CoherenceModel\n",
    "\n",
    "# spacy for lemmatization\n",
    "import spacy\n",
    "\n",
    "# Plotting tools\n",
    "import pyLDAvis\n",
    "import pyLDAvis.gensim  # don't skip this\n",
    "import matplotlib.pyplot as plt\n",
    "%matplotlib inline"
   ]
  },
  {
   "cell_type": "code",
   "execution_count": 3,
   "metadata": {},
   "outputs": [
    {
     "name": "stdout",
     "output_type": "stream",
     "text": [
      "[{'created_utc': 1514765030, 'selftext': '', 'title': 'Not juul related, but whats better, Suorin Air vs Drop, whats better?'}, {'created_utc': 1515336462, 'selftext': 'I was sitting the other day in the morning, trying to wake up with my coffee (as I like it, I have a brewing machine, so it is a good coffee) and with my vape machine. Took a sip, then vaped my DIY Unicorn Milk (never had the original, not avaible in my country) and I just loved it. It was like regular, strong black coffee with no sugar nor milk, and then after vaping, the taste left on my tounge was a great strawberry latte. And I was curious, do any of you guys have any combo with food/drink and vape? Good beer with some juices goes well too, but nothing as remarkable as this coffee/unicorn milk. Let me know!', 'title': 'What is your fav food/drink and vape combo?'}, {'created_utc': 1515844841, 'selftext': \"So I'm using Smok tfv8 coils on my baby beast atty, and I'm not sure if this is normal, but after 4 or 5 days of moderate vaping, I get pseudo-dry hits and it's impossible to land a single normal hit. The coils themselves look fine, not burnt or anything. \\n\\nThe type I'm using are the 3-coil baby t-6. I set my wattage at 70-72. Right now I'm on day 4 and the flavor is just so dull and firing the mod doesn't sound right, no crackle. Just soft hiss. Is this normal or should I change coils?\", 'title': 'How long should these coils last??'}, {'created_utc': 1516359162, 'selftext': \"Well, as I planned to, today before work I ordered my Juul. Age verification came back almost in an instant, which I am happy about not having to jump through hoops to buy something I am legally old enough to (twenty six).\\n\\nI didn't go with a starter kit for $50, instead just went with the basic device kit for $35, an extra charger, 3 packs of mango, 1 of mint, and 2 of fruit medley. Hopefully I'll enjoy the Juul and buying six packs wasn't a complete waste. \\n\\nLook forward to trying this.\\n\\nHow long does it usually take to ship out?\", 'title': 'Ordered my first Juul'}, {'created_utc': 1516862233, 'selftext': \"I'd like to know y'all favorite juices. Started vaping a couple weeks ago and I need change. 3-6mg would be nice ;)\", 'title': 'E-Liquid recommandations'}, {'created_utc': 1517379491, 'selftext': \"I've been smoking a 20 pack a day for over a decade and vaping has helped me not smoke for the first time in over 10 years. Through research and a mate's advice, I got a Vapresso Swag, and I like it, I'm still on my first coil (GT4), looking forward to exploring all the options :)\\nCan I put a tank larger than the 3.5 ml the Swag comes with?\\nThe drip tip heats up with use and I am hoping I can refit a longer one, where can I look at drip tip options?\\nI don't fancy sweet e liquids, what brands make non-sweet liquids?\", 'title': 'Two days off smoking thanks to vaping and I have some Qs'}, {'created_utc': 1517914089, 'selftext': '', 'title': 'Vaping next to a highway'}, {'created_utc': 1518386362, 'selftext': '', 'title': 'Juul + Tile? Thoughts'}, {'created_utc': 1518975860, 'selftext': \"Hey guys, I'm not a smoker per se, but i smoke cigarettes occasionally. I'm wanting to stop vaping, but I kind of know deep down that I really don't want to. I just like it too much. I've been doing it just about every day for years. \\n\\nWhenever I take adderall to study, I keep this insatiable urge to vape. It feels like I just can't stop it. I've gone through over 30ml of juice in a day before. How do I stop this?\", 'title': \"Can't stop vaping. I've been at it for over 4 years.\"}, {'created_utc': 1519501173, 'selftext': '[removed]', 'title': 'Metal found in e-cig vapor, can that issue affect our dry herb vapes?'}, None]\n",
      "[[{'created_utc': 1514765030,\n",
      "   'selftext': '',\n",
      "   'title': 'Not juul related, but whats better, Suorin Air vs Drop, whats '\n",
      "            'better?'},\n",
      "  {'created_utc': 1515336462,\n",
      "   'selftext': 'I was sitting the other day in the morning, trying to wake up '\n",
      "               'with my coffee (as I like it, I have a brewing machine, so it '\n",
      "               'is a good coffee) and with my vape machine. Took a sip, then '\n",
      "               'vaped my DIY Unicorn Milk (never had the original, not avaible '\n",
      "               'in my country) and I just loved it. It was like regular, '\n",
      "               'strong black coffee with no sugar nor milk, and then after '\n",
      "               'vaping, the taste left on my tounge was a great strawberry '\n",
      "               'latte. And I was curious, do any of you guys have any combo '\n",
      "               'with food/drink and vape? Good beer with some juices goes well '\n",
      "               'too, but nothing as remarkable as this coffee/unicorn milk. '\n",
      "               'Let me know!',\n",
      "   'title': 'What is your fav food/drink and vape combo?'},\n",
      "  {'created_utc': 1515844841,\n",
      "   'selftext': \"So I'm using Smok tfv8 coils on my baby beast atty, and I'm \"\n",
      "               'not sure if this is normal, but after 4 or 5 days of moderate '\n",
      "               \"vaping, I get pseudo-dry hits and it's impossible to land a \"\n",
      "               'single normal hit. The coils themselves look fine, not burnt '\n",
      "               'or anything. \\n'\n",
      "               '\\n'\n",
      "               \"The type I'm using are the 3-coil baby t-6. I set my wattage \"\n",
      "               \"at 70-72. Right now I'm on day 4 and the flavor is just so \"\n",
      "               \"dull and firing the mod doesn't sound right, no crackle. Just \"\n",
      "               'soft hiss. Is this normal or should I change coils?',\n",
      "   'title': 'How long should these coils last??'},\n",
      "  {'created_utc': 1516359162,\n",
      "   'selftext': 'Well, as I planned to, today before work I ordered my Juul. '\n",
      "               'Age verification came back almost in an instant, which I am '\n",
      "               'happy about not having to jump through hoops to buy something '\n",
      "               'I am legally old enough to (twenty six).\\n'\n",
      "               '\\n'\n",
      "               \"I didn't go with a starter kit for $50, instead just went with \"\n",
      "               'the basic device kit for $35, an extra charger, 3 packs of '\n",
      "               \"mango, 1 of mint, and 2 of fruit medley. Hopefully I'll enjoy \"\n",
      "               \"the Juul and buying six packs wasn't a complete waste. \\n\"\n",
      "               '\\n'\n",
      "               'Look forward to trying this.\\n'\n",
      "               '\\n'\n",
      "               'How long does it usually take to ship out?',\n",
      "   'title': 'Ordered my first Juul'},\n",
      "  {'created_utc': 1516862233,\n",
      "   'selftext': \"I'd like to know y'all favorite juices. Started vaping a \"\n",
      "               'couple weeks ago and I need change. 3-6mg would be nice ;)',\n",
      "   'title': 'E-Liquid recommandations'},\n",
      "  {'created_utc': 1517379491,\n",
      "   'selftext': \"I've been smoking a 20 pack a day for over a decade and vaping \"\n",
      "               'has helped me not smoke for the first time in over 10 years. '\n",
      "               \"Through research and a mate's advice, I got a Vapresso Swag, \"\n",
      "               \"and I like it, I'm still on my first coil (GT4), looking \"\n",
      "               'forward to exploring all the options :)\\n'\n",
      "               'Can I put a tank larger than the 3.5 ml the Swag comes with?\\n'\n",
      "               'The drip tip heats up with use and I am hoping I can refit a '\n",
      "               'longer one, where can I look at drip tip options?\\n'\n",
      "               \"I don't fancy sweet e liquids, what brands make non-sweet \"\n",
      "               'liquids?',\n",
      "   'title': 'Two days off smoking thanks to vaping and I have some Qs'},\n",
      "  {'created_utc': 1517914089,\n",
      "   'selftext': '',\n",
      "   'title': 'Vaping next to a highway'},\n",
      "  {'created_utc': 1518386362, 'selftext': '', 'title': 'Juul + Tile? Thoughts'},\n",
      "  {'created_utc': 1518975860,\n",
      "   'selftext': \"Hey guys, I'm not a smoker per se, but i smoke cigarettes \"\n",
      "               \"occasionally. I'm wanting to stop vaping, but I kind of know \"\n",
      "               \"deep down that I really don't want to. I just like it too \"\n",
      "               \"much. I've been doing it just about every day for years. \\n\"\n",
      "               '\\n'\n",
      "               'Whenever I take adderall to study, I keep this insatiable urge '\n",
      "               \"to vape. It feels like I just can't stop it. I've gone through \"\n",
      "               'over 30ml of juice in a day before. How do I stop this?',\n",
      "   'title': \"Can't stop vaping. I've been at it for over 4 years.\"},\n",
      "  {'created_utc': 1519501173,\n",
      "   'selftext': '[removed]',\n",
      "   'title': 'Metal found in e-cig vapor, can that issue affect our dry herb '\n",
      "            'vapes?'},\n",
      "  None]]\n"
     ]
    }
   ],
   "source": [
    "#convert to list\n",
    "titledata = df.values.T.tolist()\n",
    "type(titledata)\n",
    "print(titledata[0])\n",
    "pprint(titledata[:1])\n",
    "testdict = titledata[0]"
   ]
  },
  {
   "cell_type": "code",
   "execution_count": 4,
   "metadata": {},
   "outputs": [
    {
     "data": {
      "text/plain": [
       "list"
      ]
     },
     "execution_count": 4,
     "metadata": {},
     "output_type": "execute_result"
    }
   ],
   "source": [
    "# Flatten titledata\n",
    "titledata = [data for entry in titledata for data in entry]\n",
    "for s in titledata:\n",
    "    if s:\n",
    "        s['title'] = s['title'].replace('\\n', '') if s.get('title') else None\n",
    "        s['selftext'] = s['selftext'].replace('\\n', '') if s.get('selftext') else None\n",
    "\n",
    "\n",
    "type(titledata)"
   ]
  },
  {
   "cell_type": "code",
   "execution_count": 5,
   "metadata": {},
   "outputs": [
    {
     "name": "stdout",
     "output_type": "stream",
     "text": [
      "['created_utc', 'selftext', 'none', 'title', 'not', 'juul', 'related', 'but', 'whats', 'better', 'suorin', 'air', 'vs', 'drop', 'whats', 'better']\n"
     ]
    },
    {
     "data": {
      "text/plain": [
       "list"
      ]
     },
     "execution_count": 5,
     "metadata": {},
     "output_type": "execute_result"
    }
   ],
   "source": [
    "def sent_to_words(sentences):\n",
    "    for sentence in sentences:\n",
    "        yield(gensim.utils.simple_preprocess(str(sentence), deacc=True))  # deacc=True removes punctuations\n",
    "\n",
    "data_words = list(sent_to_words(titledata))\n",
    "\n",
    "print(data_words[0])\n",
    "type(data_words)"
   ]
  },
  {
   "cell_type": "code",
   "execution_count": 6,
   "metadata": {},
   "outputs": [],
   "source": [
    "result=[]\n",
    "#iterate over each inner i list in data_words\n",
    "for i in data_words:\n",
    "    new=[]\n",
    "#iterate over word inside the inner i list\n",
    "    for word in i:\n",
    "#if word not in stop_words, then i remove it\n",
    "        if word not in stop_words:\n",
    "            new.append(word)\n",
    "            \n",
    "            \n",
    "    result.append(new)\n",
    "    \n"
   ]
  },
  {
   "cell_type": "code",
   "execution_count": 7,
   "metadata": {},
   "outputs": [
    {
     "data": {
      "text/plain": [
       "list"
      ]
     },
     "execution_count": 7,
     "metadata": {},
     "output_type": "execute_result"
    }
   ],
   "source": [
    "type(result)"
   ]
  },
  {
   "cell_type": "code",
   "execution_count": 8,
   "metadata": {},
   "outputs": [
    {
     "name": "stdout",
     "output_type": "stream",
     "text": [
      "[['none', 'juul', 'related', 'whats', 'better', 'suorin', 'air', 'vs', 'drop', 'whats', 'better'], ['sitting', 'day', 'morning', 'trying', 'wake', 'coffee', 'like', 'brewing', 'machine', 'good', 'coffee', 'vape', 'machine', 'took', 'sip', 'vaped', 'diy', 'unicorn', 'milk', 'never', 'original', 'avaible', 'country', 'loved', 'like', 'regular', 'strong', 'black', 'coffee', 'sugar', 'milk', 'vaping', 'taste', 'left', 'tounge', 'great', 'strawberry', 'latte', 'curious', 'guys', 'combo', 'food', 'drink', 'vape', 'good', 'beer', 'juices', 'goes', 'well', 'nothing', 'remarkable', 'coffee', 'unicorn', 'milk', 'let', 'fav', 'food', 'drink', 'vape', 'combo']]\n"
     ]
    }
   ],
   "source": [
    "print(result[:2])"
   ]
  },
  {
   "cell_type": "code",
   "execution_count": 9,
   "metadata": {
    "scrolled": false
   },
   "outputs": [
    {
     "name": "stdout",
     "output_type": "stream",
     "text": [
      "stop words found are  0\n"
     ]
    }
   ],
   "source": [
    "count=0\n",
    "for innerlist in result:\n",
    "    if word in innerlist in stop_words:\n",
    "        count+=1\n",
    "        print(word)\n",
    "print(\"stop words found are \", count)\n"
   ]
  },
  {
   "cell_type": "code",
   "execution_count": 10,
   "metadata": {},
   "outputs": [
    {
     "name": "stdout",
     "output_type": "stream",
     "text": [
      "[['none', 'juul', 'relat', 'what', 'better', 'suorin', 'air', 'vs', 'drop', 'what', 'better'], ['sit', 'day', 'morn', 'tri', 'wake', 'coffe', 'like', 'brew', 'machin', 'good', 'coffe', 'vape', 'machin', 'took', 'sip', 'vape', 'diy', 'unicorn', 'milk', 'never', 'origin', 'avaibl', 'countri', 'love', 'like', 'regular', 'strong', 'black', 'coffe', 'sugar', 'milk', 'vape', 'tast', 'left', 'toung', 'great', 'strawberri', 'latt', 'curious', 'guy', 'combo', 'food', 'drink', 'vape', 'good', 'beer', 'juic', 'goe', 'well', 'noth', 'remark', 'coffe', 'unicorn', 'milk', 'let', 'fav', 'food', 'drink', 'vape', 'combo']]\n"
     ]
    }
   ],
   "source": [
    "from nltk.stem.snowball import SnowballStemmer\n",
    "stemmer = SnowballStemmer(language='english')\n",
    "\n",
    "stemmedList=[]\n",
    "for innerlist in result:\n",
    "#test = result[0]\n",
    "    new = []\n",
    "    for t in innerlist:\n",
    "    #print (t + '-->' + stemmer.stem(t))\n",
    "        new.append(stemmer.stem(t))\n",
    "    stemmedList.append(new)\n",
    "#print(test)\n",
    "print(stemmedList[:2])"
   ]
  },
  {
   "cell_type": "code",
   "execution_count": null,
   "metadata": {},
   "outputs": [],
   "source": []
  },
  {
   "cell_type": "code",
   "execution_count": 11,
   "metadata": {},
   "outputs": [
    {
     "name": "stdout",
     "output_type": "stream",
     "text": [
      "[[(0, 1), (1, 2), (2, 1), (3, 1), (4, 1), (5, 1), (6, 1), (7, 1), (8, 2)], [(9, 1), (10, 1), (11, 1), (12, 1), (13, 4), (14, 2), (15, 1), (16, 1), (17, 1), (18, 1), (19, 2), (20, 1), (21, 2), (22, 1), (23, 2), (24, 1), (25, 1), (26, 1), (27, 1), (28, 1), (29, 1), (30, 2), (31, 1), (32, 2), (33, 3), (34, 1), (35, 1), (36, 1), (37, 1), (38, 1), (39, 1), (40, 1), (41, 1), (42, 1), (43, 1), (44, 1), (45, 1), (46, 1), (47, 1), (48, 1), (49, 2), (50, 5), (51, 1), (52, 1)], [(17, 2), (50, 1), (53, 1), (54, 1), (55, 2), (56, 1), (57, 1), (58, 1), (59, 5), (60, 1), (61, 1), (62, 1), (63, 1), (64, 1), (65, 1), (66, 1), (67, 1), (68, 2), (69, 1), (70, 1), (71, 1), (72, 1), (73, 1), (74, 1), (75, 1), (76, 3), (77, 1), (78, 2), (79, 1), (80, 1), (81, 1), (82, 1), (83, 1), (84, 1), (85, 1), (86, 1), (87, 2), (88, 1)], [(3, 3), (48, 1), (52, 1), (72, 1), (73, 1), (89, 1), (90, 1), (91, 1), (92, 1), (93, 2), (94, 1), (95, 1), (96, 1), (97, 1), (98, 1), (99, 1), (100, 1), (101, 1), (102, 1), (103, 1), (104, 1), (105, 1), (106, 1), (107, 1), (108, 1), (109, 1), (110, 1), (111, 2), (112, 1), (113, 1), (114, 1), (115, 1), (116, 1), (117, 2), (118, 2), (119, 1), (120, 1), (121, 2), (122, 1), (123, 1), (124, 1), (125, 1), (126, 1), (127, 1), (128, 1), (129, 1), (130, 1), (131, 1)], [(26, 1), (30, 1), (50, 1), (58, 1), (132, 1), (133, 1), (134, 1), (135, 1), (136, 1), (137, 1), (138, 1), (139, 1), (140, 1), (141, 1), (142, 1)]]\n"
     ]
    }
   ],
   "source": [
    "#Create Dictionary\n",
    "id2word = corpora.Dictionary(stemmedList)\n",
    "\n",
    "# Create Corpus\n",
    "texts = stemmedList\n",
    "\n",
    "# Term Document Frequency\n",
    "corpus = [id2word.doc2bow(text) for text in texts]\n",
    "\n",
    "# View\n",
    "print(corpus[:5])"
   ]
  },
  {
   "cell_type": "code",
   "execution_count": 12,
   "metadata": {},
   "outputs": [],
   "source": [
    "#tokenization with gensim preprocess\n",
    "def sent_to_words(sentences):\n",
    "    for sentence in sentences:\n",
    "        yield(gensim.utils.simple_preprocess(str(sentence), deacc=True))  # deacc=True removes punctuations\n"
   ]
  },
  {
   "cell_type": "code",
   "execution_count": 13,
   "metadata": {
    "scrolled": true
   },
   "outputs": [
    {
     "name": "stdout",
     "output_type": "stream",
     "text": [
      "11000\n",
      "['none', 'juul', 'relat', 'what', 'better', 'suorin', 'air', 'vs', 'drop', 'what', 'better']\n"
     ]
    }
   ],
   "source": [
    "data_words = list(sent_to_words(stemmedList))\n",
    "print(len(stemmedList))\n",
    "print(stemmedList[0])"
   ]
  },
  {
   "cell_type": "code",
   "execution_count": 14,
   "metadata": {},
   "outputs": [
    {
     "data": {
      "text/plain": [
       "list"
      ]
     },
     "execution_count": 14,
     "metadata": {},
     "output_type": "execute_result"
    }
   ],
   "source": [
    "type(stemmedList)"
   ]
  },
  {
   "cell_type": "code",
   "execution_count": 15,
   "metadata": {},
   "outputs": [
    {
     "data": {
      "text/plain": [
       "'thing'"
      ]
     },
     "execution_count": 15,
     "metadata": {},
     "output_type": "execute_result"
    }
   ],
   "source": [
    "#Gensim creates a unique id for each word in the document. \n",
    "#The produced corpus shown \n",
    "#above is a mapping of (word_id, word_frequency).\n",
    "#For example, (0, 1) above implies, word id 0 occurs once in the first document.\n",
    "#Likewise, word id 1 occurs twice and so on.\n",
    "id2word[531]"
   ]
  },
  {
   "cell_type": "code",
   "execution_count": 16,
   "metadata": {},
   "outputs": [
    {
     "data": {
      "text/plain": [
       "'found'"
      ]
     },
     "execution_count": 16,
     "metadata": {},
     "output_type": "execute_result"
    }
   ],
   "source": [
    "id2word[204]"
   ]
  },
  {
   "cell_type": "code",
   "execution_count": 17,
   "metadata": {},
   "outputs": [
    {
     "data": {
      "text/plain": [
       "[[('air', 1),\n",
       "  ('better', 2),\n",
       "  ('drop', 1),\n",
       "  ('juul', 1),\n",
       "  ('none', 1),\n",
       "  ('relat', 1),\n",
       "  ('suorin', 1),\n",
       "  ('vs', 1),\n",
       "  ('what', 2)],\n",
       " [('avaibl', 1),\n",
       "  ('beer', 1),\n",
       "  ('black', 1),\n",
       "  ('brew', 1),\n",
       "  ('coffe', 4),\n",
       "  ('combo', 2),\n",
       "  ('countri', 1),\n",
       "  ('curious', 1),\n",
       "  ('day', 1),\n",
       "  ('diy', 1),\n",
       "  ('drink', 2),\n",
       "  ('fav', 1),\n",
       "  ('food', 2),\n",
       "  ('goe', 1),\n",
       "  ('good', 2),\n",
       "  ('great', 1),\n",
       "  ('guy', 1),\n",
       "  ('juic', 1),\n",
       "  ('latt', 1),\n",
       "  ('left', 1),\n",
       "  ('let', 1),\n",
       "  ('like', 2),\n",
       "  ('love', 1),\n",
       "  ('machin', 2),\n",
       "  ('milk', 3),\n",
       "  ('morn', 1),\n",
       "  ('never', 1),\n",
       "  ('noth', 1),\n",
       "  ('origin', 1),\n",
       "  ('regular', 1),\n",
       "  ('remark', 1),\n",
       "  ('sip', 1),\n",
       "  ('sit', 1),\n",
       "  ('strawberri', 1),\n",
       "  ('strong', 1),\n",
       "  ('sugar', 1),\n",
       "  ('tast', 1),\n",
       "  ('took', 1),\n",
       "  ('toung', 1),\n",
       "  ('tri', 1),\n",
       "  ('unicorn', 2),\n",
       "  ('vape', 5),\n",
       "  ('wake', 1),\n",
       "  ('well', 1)]]"
      ]
     },
     "execution_count": 17,
     "metadata": {},
     "output_type": "execute_result"
    }
   ],
   "source": [
    "# Human readable format of corpus (term-frequency)\n",
    "[[(id2word[id], freq) for id, freq in cp] for cp in corpus[:2]]"
   ]
  },
  {
   "cell_type": "code",
   "execution_count": 18,
   "metadata": {},
   "outputs": [],
   "source": [
    "# Build LDA model\n",
    "lda_model = gensim.models.ldamodel.LdaModel(corpus=corpus,\n",
    "                                           id2word=id2word,\n",
    "                                           num_topics=10, \n",
    "                                           random_state=100,\n",
    "                                           update_every=1,\n",
    "                                           chunksize=100,\n",
    "                                           passes=10,\n",
    "                                           alpha='auto',\n",
    "                                           per_word_topics=True)"
   ]
  },
  {
   "cell_type": "code",
   "execution_count": 19,
   "metadata": {
    "scrolled": true
   },
   "outputs": [
    {
     "name": "stdout",
     "output_type": "stream",
     "text": [
      "[(0,\n",
      "  '0.058*\"gb\" + 0.045*\"fun\" + 0.042*\"lead\" + 0.040*\"compat\" + 0.023*\"rise\" + '\n",
      "  '0.022*\"travel\" + 0.021*\"ny\" + 0.020*\"beer\" + 0.015*\"februari\" + '\n",
      "  '0.011*\"pussi\"'),\n",
      " (1,\n",
      "  '0.151*\"none\" + 0.147*\"juul\" + 0.071*\"pod\" + 0.035*\"remov\" + 0.026*\"pen\" + '\n",
      "  '0.025*\"hit\" + 0.019*\"addict\" + 0.012*\"wts\" + 0.012*\"squonk\" + 0.012*\"ship\"'),\n",
      " (2,\n",
      "  '0.050*\"vape\" + 0.019*\"use\" + 0.015*\"like\" + 0.014*\"get\" + 0.012*\"new\" + '\n",
      "  '0.011*\"look\" + 0.010*\"coil\" + 0.010*\"juic\" + 0.010*\"good\" + 0.008*\"tri\"'),\n",
      " (3,\n",
      "  '0.105*\"com\" + 0.069*\"www\" + 0.031*\"reddit\" + 0.027*\"comment\" + '\n",
      "  '0.019*\"thread\" + 0.018*\"question\" + 0.017*\"post\" + 0.016*\"vape\" + '\n",
      "  '0.013*\"youtub\" + 0.012*\"point\"'),\n",
      " (4,\n",
      "  '0.040*\"tr\" + 0.040*\"com\" + 0.040*\"lti\" + 0.035*\"imgur\" + 0.035*\"png\" + '\n",
      "  '0.033*\"origin\" + 0.023*\"aegi\" + 0.017*\"misc\" + 0.016*\"anvil\" + '\n",
      "  '0.015*\"dynam\"'),\n",
      " (5,\n",
      "  '0.031*\"mod\" + 0.023*\"com\" + 0.020*\"batteri\" + 0.016*\"vapor\" + 0.015*\"amp\" + '\n",
      "  '0.014*\"tank\" + 0.014*\"kit\" + 0.013*\"imgur\" + 0.012*\"coil\" + 0.011*\"rda\"'),\n",
      " (6,\n",
      "  '0.016*\"smoke\" + 0.011*\"like\" + 0.010*\"time\" + 0.009*\"feel\" + 0.009*\"day\" + '\n",
      "  '0.008*\"get\" + 0.007*\"go\" + 0.006*\"want\" + 0.006*\"year\" + 0.006*\"high\"'),\n",
      " (7,\n",
      "  '0.049*\"gift\" + 0.048*\"bottl\" + 0.047*\"clean\" + 0.040*\"relat\" + 0.033*\"pm\" + '\n",
      "  '0.026*\"account\" + 0.024*\"yes\" + 0.022*\"websit\" + 0.019*\"mango\" + '\n",
      "  '0.019*\"menthol\"'),\n",
      " (8,\n",
      "  '0.117*\"comment\" + 0.090*\"xymarket\" + 0.076*\"paypal\" + 0.018*\"game\" + '\n",
      "  '0.018*\"amazon\" + 0.017*\"usa\" + 0.016*\"gc\" + 0.014*\"card\" + 0.014*\"us\" + '\n",
      "  '0.011*\"offer\"'),\n",
      " (9,\n",
      "  '0.123*\"mg\" + 0.068*\"thc\" + 0.038*\"salt\" + 0.038*\"nic\" + 0.037*\"gone\" + '\n",
      "  '0.027*\"receptor\" + 0.024*\"per\" + 0.024*\"cb\" + 0.010*\"endocannabinoid\" + '\n",
      "  '0.010*\"solvent\"')]\n"
     ]
    }
   ],
   "source": [
    "# Print the Keyword in the 10 topics\n",
    "pprint(lda_model.print_topics())\n",
    "doc_lda = lda_model[corpus]"
   ]
  },
  {
   "cell_type": "code",
   "execution_count": 23,
   "metadata": {},
   "outputs": [
    {
     "name": "stdout",
     "output_type": "stream",
     "text": [
      "\n",
      "Perplexity:  -7.6935236591648986\n"
     ]
    }
   ],
   "source": [
    "# Compute Perplexity\n",
    "print('\\nPerplexity: ', lda_model.log_perplexity(corpus))  # a measure of how good the model is. lower the better.\n"
   ]
  },
  {
   "cell_type": "code",
   "execution_count": 24,
   "metadata": {
    "scrolled": true
   },
   "outputs": [
    {
     "name": "stdout",
     "output_type": "stream",
     "text": [
      "\n",
      "Coherence Score:  0.46769119948363347\n"
     ]
    }
   ],
   "source": [
    "# Compute Coherence Score\n",
    "coherence_model_lda = CoherenceModel(model=lda_model, texts=stemmedList, dictionary=id2word, coherence='c_v')\n",
    "coherence_lda = coherence_model_lda.get_coherence()\n",
    "print('\\nCoherence Score: ', coherence_lda)"
   ]
  },
  {
   "cell_type": "code",
   "execution_count": 25,
   "metadata": {
    "scrolled": false
   },
   "outputs": [
    {
     "name": "stderr",
     "output_type": "stream",
     "text": [
      "/home/inez/.local/lib/python3.6/site-packages/pyLDAvis/_prepare.py:257: FutureWarning: Sorting because non-concatenation axis is not aligned. A future version\n",
      "of pandas will change to not sort by default.\n",
      "\n",
      "To accept the future behavior, pass 'sort=False'.\n",
      "\n",
      "To retain the current behavior and silence the warning, pass 'sort=True'.\n",
      "\n",
      "  return pd.concat([default_term_info] + list(topic_dfs))\n"
     ]
    },
    {
     "data": {
      "text/html": [
       "\n",
       "<link rel=\"stylesheet\" type=\"text/css\" href=\"https://cdn.rawgit.com/bmabey/pyLDAvis/files/ldavis.v1.0.0.css\">\n",
       "\n",
       "\n",
       "<div id=\"ldavis_el14179140111414029792901953543\"></div>\n",
       "<script type=\"text/javascript\">\n",
       "\n",
       "var ldavis_el14179140111414029792901953543_data = {\"mdsDat\": {\"x\": [0.2738946725070258, 0.30801000697995506, 0.10202966018609956, 0.17163158582574092, -0.10625215250355306, 0.024999555056178867, -0.1136172637518984, -0.2176237328782763, -0.22515100493746712, -0.2179213264838054], \"y\": [-0.2162447590675989, -0.1542709016418764, 0.34690373320818296, 0.08549993892262521, 0.10565538602494419, 0.1222589965549174, 0.009552724335987176, -0.09524481457945179, -0.10011989941666022, -0.10399040434106993], \"topics\": [1, 2, 3, 4, 5, 6, 7, 8, 9, 10], \"cluster\": [1, 1, 1, 1, 1, 1, 1, 1, 1, 1], \"Freq\": [29.33102035522461, 28.288877487182617, 18.99311637878418, 11.293725967407227, 3.5571999549865723, 3.067680597305298, 3.0333898067474365, 1.3221946954727173, 0.7396577596664429, 0.3731430172920227]}, \"tinfo\": {\"Category\": [\"Default\", \"Default\", \"Default\", \"Default\", \"Default\", \"Default\", \"Default\", \"Default\", \"Default\", \"Default\", \"Default\", \"Default\", \"Default\", \"Default\", \"Default\", \"Default\", \"Default\", \"Default\", \"Default\", \"Default\", \"Default\", \"Default\", \"Default\", \"Default\", \"Default\", \"Default\", \"Default\", \"Default\", \"Default\", \"Default\", \"Topic1\", \"Topic1\", \"Topic1\", \"Topic1\", \"Topic1\", \"Topic1\", \"Topic1\", \"Topic1\", \"Topic1\", \"Topic1\", \"Topic1\", \"Topic1\", \"Topic1\", \"Topic1\", \"Topic1\", \"Topic1\", \"Topic1\", \"Topic1\", \"Topic1\", \"Topic1\", \"Topic1\", \"Topic1\", \"Topic1\", \"Topic1\", \"Topic1\", \"Topic1\", \"Topic1\", \"Topic1\", \"Topic1\", \"Topic1\", \"Topic1\", \"Topic1\", \"Topic1\", \"Topic1\", \"Topic1\", \"Topic1\", \"Topic1\", \"Topic1\", \"Topic1\", \"Topic1\", \"Topic1\", \"Topic1\", \"Topic1\", \"Topic1\", \"Topic1\", \"Topic1\", \"Topic1\", \"Topic1\", \"Topic1\", \"Topic1\", \"Topic1\", \"Topic1\", \"Topic1\", \"Topic1\", \"Topic1\", \"Topic1\", \"Topic1\", \"Topic1\", \"Topic1\", \"Topic1\", \"Topic1\", \"Topic1\", \"Topic1\", \"Topic2\", \"Topic2\", \"Topic2\", \"Topic2\", \"Topic2\", \"Topic2\", \"Topic2\", \"Topic2\", \"Topic2\", \"Topic2\", \"Topic2\", \"Topic2\", \"Topic2\", \"Topic2\", \"Topic2\", \"Topic2\", \"Topic2\", \"Topic2\", \"Topic2\", \"Topic2\", \"Topic2\", \"Topic2\", \"Topic2\", \"Topic2\", \"Topic2\", \"Topic2\", \"Topic2\", \"Topic2\", \"Topic2\", \"Topic2\", \"Topic2\", \"Topic2\", \"Topic2\", \"Topic2\", \"Topic2\", \"Topic2\", \"Topic2\", \"Topic2\", \"Topic2\", \"Topic2\", \"Topic2\", \"Topic2\", \"Topic2\", \"Topic2\", \"Topic2\", \"Topic2\", \"Topic2\", \"Topic2\", \"Topic2\", \"Topic2\", \"Topic2\", \"Topic2\", \"Topic2\", \"Topic2\", \"Topic2\", \"Topic2\", \"Topic2\", \"Topic2\", \"Topic2\", \"Topic2\", \"Topic2\", \"Topic3\", \"Topic3\", \"Topic3\", \"Topic3\", \"Topic3\", \"Topic3\", \"Topic3\", \"Topic3\", \"Topic3\", \"Topic3\", \"Topic3\", \"Topic3\", \"Topic3\", \"Topic3\", \"Topic3\", \"Topic3\", \"Topic3\", \"Topic3\", \"Topic3\", \"Topic3\", \"Topic3\", \"Topic3\", \"Topic3\", \"Topic3\", \"Topic3\", \"Topic3\", \"Topic3\", \"Topic3\", \"Topic3\", \"Topic3\", \"Topic3\", \"Topic3\", \"Topic3\", \"Topic3\", \"Topic3\", \"Topic4\", \"Topic4\", \"Topic4\", \"Topic4\", \"Topic4\", \"Topic4\", \"Topic4\", \"Topic4\", \"Topic4\", \"Topic4\", \"Topic4\", \"Topic4\", \"Topic4\", \"Topic4\", \"Topic4\", \"Topic4\", \"Topic4\", \"Topic4\", \"Topic4\", \"Topic4\", \"Topic4\", \"Topic4\", \"Topic4\", \"Topic4\", \"Topic4\", \"Topic4\", \"Topic4\", \"Topic4\", \"Topic4\", \"Topic4\", \"Topic4\", \"Topic4\", \"Topic4\", \"Topic4\", \"Topic4\", \"Topic4\", \"Topic4\", \"Topic4\", \"Topic4\", \"Topic4\", \"Topic4\", \"Topic4\", \"Topic4\", \"Topic4\", \"Topic4\", \"Topic4\", \"Topic4\", \"Topic4\", \"Topic4\", \"Topic4\", \"Topic4\", \"Topic4\", \"Topic5\", \"Topic5\", \"Topic5\", \"Topic5\", \"Topic5\", \"Topic5\", \"Topic5\", \"Topic5\", \"Topic5\", \"Topic5\", \"Topic5\", \"Topic5\", \"Topic5\", \"Topic5\", \"Topic5\", \"Topic5\", \"Topic5\", \"Topic5\", \"Topic5\", \"Topic5\", \"Topic5\", \"Topic5\", \"Topic5\", \"Topic5\", \"Topic5\", \"Topic5\", \"Topic5\", \"Topic5\", \"Topic5\", \"Topic5\", \"Topic5\", \"Topic5\", \"Topic5\", \"Topic5\", \"Topic5\", \"Topic5\", \"Topic5\", \"Topic5\", \"Topic5\", \"Topic5\", \"Topic5\", \"Topic5\", \"Topic5\", \"Topic6\", \"Topic6\", \"Topic6\", \"Topic6\", \"Topic6\", \"Topic6\", \"Topic6\", \"Topic6\", \"Topic6\", \"Topic6\", \"Topic6\", \"Topic6\", \"Topic6\", \"Topic6\", \"Topic6\", \"Topic6\", \"Topic6\", \"Topic6\", \"Topic6\", \"Topic6\", \"Topic6\", \"Topic6\", \"Topic6\", \"Topic6\", \"Topic6\", \"Topic6\", \"Topic6\", \"Topic6\", \"Topic6\", \"Topic6\", \"Topic6\", \"Topic6\", \"Topic6\", \"Topic6\", \"Topic6\", \"Topic6\", \"Topic6\", \"Topic6\", \"Topic6\", \"Topic6\", \"Topic6\", \"Topic6\", \"Topic6\", \"Topic6\", \"Topic6\", \"Topic6\", \"Topic6\", \"Topic6\", \"Topic6\", \"Topic6\", \"Topic6\", \"Topic6\", \"Topic6\", \"Topic7\", \"Topic7\", \"Topic7\", \"Topic7\", \"Topic7\", \"Topic7\", \"Topic7\", \"Topic7\", \"Topic7\", \"Topic7\", \"Topic7\", \"Topic7\", \"Topic7\", \"Topic7\", \"Topic7\", \"Topic7\", \"Topic7\", \"Topic7\", \"Topic7\", \"Topic7\", \"Topic7\", \"Topic7\", \"Topic7\", \"Topic7\", \"Topic7\", \"Topic7\", \"Topic7\", \"Topic7\", \"Topic7\", \"Topic7\", \"Topic7\", \"Topic7\", \"Topic7\", \"Topic7\", \"Topic7\", \"Topic7\", \"Topic7\", \"Topic7\", \"Topic7\", \"Topic7\", \"Topic7\", \"Topic7\", \"Topic7\", \"Topic7\", \"Topic7\", \"Topic7\", \"Topic8\", \"Topic8\", \"Topic8\", \"Topic8\", \"Topic8\", \"Topic8\", \"Topic8\", \"Topic8\", \"Topic8\", \"Topic8\", \"Topic8\", \"Topic8\", \"Topic8\", \"Topic8\", \"Topic8\", \"Topic8\", \"Topic8\", \"Topic8\", \"Topic8\", \"Topic8\", \"Topic8\", \"Topic8\", \"Topic8\", \"Topic8\", \"Topic8\", \"Topic8\", \"Topic8\", \"Topic8\", \"Topic8\", \"Topic8\", \"Topic8\", \"Topic8\", \"Topic8\", \"Topic8\", \"Topic8\", \"Topic8\", \"Topic8\", \"Topic9\", \"Topic9\", \"Topic9\", \"Topic9\", \"Topic9\", \"Topic9\", \"Topic9\", \"Topic9\", \"Topic9\", \"Topic9\", \"Topic9\", \"Topic9\", \"Topic9\", \"Topic9\", \"Topic9\", \"Topic9\", \"Topic9\", \"Topic9\", \"Topic9\", \"Topic9\", \"Topic9\", \"Topic9\", \"Topic9\", \"Topic9\", \"Topic9\", \"Topic9\", \"Topic9\", \"Topic9\", \"Topic9\", \"Topic9\", \"Topic9\", \"Topic10\", \"Topic10\", \"Topic10\", \"Topic10\", \"Topic10\", \"Topic10\", \"Topic10\", \"Topic10\", \"Topic10\", \"Topic10\", \"Topic10\", \"Topic10\", \"Topic10\", \"Topic10\", \"Topic10\", \"Topic10\", \"Topic10\", \"Topic10\", \"Topic10\", \"Topic10\", \"Topic10\", \"Topic10\", \"Topic10\", \"Topic10\", \"Topic10\", \"Topic10\", \"Topic10\", \"Topic10\", \"Topic10\", \"Topic10\", \"Topic10\"], \"Freq\": [13051.0, 15106.0, 4483.0, 4364.0, 5552.0, 7517.0, 7362.0, 6464.0, 3132.0, 3307.0, 8243.0, 2936.0, 2885.0, 6530.0, 4267.0, 4350.0, 4507.0, 2073.0, 3174.0, 3744.0, 3028.0, 2642.0, 2723.0, 1476.0, 1792.0, 4440.0, 894.0, 4258.0, 2473.0, 7233.0, 4506.2548828125, 1560.0982666015625, 1228.33203125, 995.551513671875, 977.3099365234375, 938.4371337890625, 914.291015625, 875.7181396484375, 842.6610107421875, 819.9813232421875, 758.8096923828125, 745.102783203125, 727.7677001953125, 705.8969116210938, 682.5359497070312, 671.6206665039062, 641.3297729492188, 619.8886108398438, 596.3564453125, 590.200927734375, 582.754150390625, 579.8712768554688, 555.0345458984375, 520.4862670898438, 517.0443115234375, 509.4506530761719, 500.8495788574219, 486.712158203125, 483.81005859375, 468.80438232421875, 699.0897216796875, 1423.4256591796875, 992.3236083984375, 1039.1541748046875, 1197.872802734375, 831.7606811523438, 2614.547119140625, 1676.728759765625, 2469.84423828125, 958.3335571289062, 2789.816650390625, 1473.818603515625, 1771.580322265625, 1350.2529296875, 2094.952880859375, 1444.93798828125, 3148.0654296875, 1345.6610107421875, 1266.067138671875, 1787.8345947265625, 1410.9329833984375, 2412.6787109375, 1484.01611328125, 1285.9573974609375, 1140.133056640625, 1481.908935546875, 1251.61669921875, 1450.3076171875, 1346.1065673828125, 1140.65478515625, 1029.4735107421875, 1095.028564453125, 1050.4097900390625, 2279.619384765625, 1613.9552001953125, 1243.97412109375, 1236.8223876953125, 1209.88525390625, 846.3320922851562, 784.0408325195312, 781.8551025390625, 754.8447265625, 729.697998046875, 669.5564575195312, 630.4823608398438, 622.6807250976562, 613.209228515625, 606.663330078125, 607.0460815429688, 598.7846069335938, 595.6337890625, 571.592529296875, 563.5345458984375, 558.3875122070312, 554.721923828125, 542.7179565429688, 540.8720092773438, 536.2786254882812, 517.8953857421875, 506.7876892089844, 490.8699951171875, 483.6448669433594, 480.0064392089844, 2783.219970703125, 13876.1298828125, 1771.826416015625, 718.8167724609375, 3081.314453125, 3283.32275390625, 5203.41162109375, 2647.544189453125, 1463.3551025390625, 2845.173828125, 3883.042236328125, 4084.211669921875, 2320.0380859375, 1975.1654052734375, 1784.9984130859375, 1112.783203125, 1197.16162109375, 2190.916015625, 895.9059448242188, 1692.05078125, 1484.0078125, 2255.347412109375, 1604.2818603515625, 1789.281005859375, 1487.974365234375, 1132.0244140625, 1599.9677734375, 1284.15673828125, 1452.46826171875, 1209.4647216796875, 1219.3946533203125, 7516.51171875, 7361.33056640625, 6463.412109375, 4349.6708984375, 3173.6943359375, 3027.552734375, 2722.76904296875, 2472.697265625, 2278.055908203125, 2257.3583984375, 2031.42919921875, 1886.8175048828125, 1858.0107421875, 1743.4896240234375, 1736.16552734375, 1581.8572998046875, 1562.8092041015625, 1465.76123046875, 1412.731689453125, 1406.3131103515625, 1394.650146484375, 1393.7100830078125, 1280.517578125, 1206.728271484375, 1138.048583984375, 1105.205322265625, 1045.5814208984375, 1044.204833984375, 1019.6524047851562, 1017.4786987304688, 6066.5380859375, 6564.28125, 7407.39404296875, 1316.77294921875, 1191.821533203125, 1733.4725341796875, 813.98876953125, 772.1058959960938, 741.1800537109375, 738.8119506835938, 714.6806030273438, 712.6033325195312, 631.4427490234375, 578.9138793945312, 570.1005859375, 559.0324096679688, 554.1534423828125, 521.6546020507812, 509.5768127441406, 507.4638671875, 489.6801452636719, 468.9073181152344, 468.29693603515625, 437.526611328125, 428.1054382324219, 395.1079406738281, 390.6916809082031, 382.95947265625, 360.6976623535156, 343.5913391113281, 338.9714660644531, 335.28350830078125, 326.0915832519531, 324.28790283203125, 317.24481201171875, 955.0318603515625, 637.573974609375, 921.4210815429688, 1220.0838623046875, 3466.658447265625, 2217.214599609375, 1059.6461181640625, 717.4093017578125, 1188.4608154296875, 1079.6766357421875, 1675.087158203125, 1570.83740234375, 811.5690307617188, 895.7595825195312, 1576.8990478515625, 1135.0948486328125, 2498.724609375, 1332.4635009765625, 1401.2501220703125, 679.873291015625, 819.8975830078125, 730.7903442382812, 3131.413330078125, 619.5653686523438, 588.6333618164062, 550.0447387695312, 273.1420593261719, 245.82693481445312, 233.83119201660156, 211.2054443359375, 183.6074981689453, 183.21307373046875, 162.85064697265625, 161.55581665039062, 146.0499267578125, 143.53578186035156, 133.29611206054688, 118.56118774414062, 118.18529510498047, 112.1872329711914, 111.91036224365234, 111.72985076904297, 108.2905044555664, 98.86547088623047, 98.2907485961914, 92.48907470703125, 92.00167846679688, 90.94803619384766, 88.09454345703125, 85.35525512695312, 83.77587127685547, 82.91793823242188, 2648.8271484375, 494.25018310546875, 4085.93017578125, 630.272705078125, 481.5660705566406, 382.68096923828125, 133.41275024414062, 258.52886962890625, 130.8289794921875, 151.11337280273438, 141.1764373779297, 172.7342529296875, 116.77194213867188, 303.2484436035156, 295.3856201171875, 278.5081481933594, 262.17071533203125, 249.13133239746094, 247.3838653564453, 243.10963439941406, 221.08009338378906, 212.377197265625, 205.55113220214844, 201.25428771972656, 198.07679748535156, 191.6387176513672, 144.91590881347656, 143.5227508544922, 137.22705078125, 122.82854461669922, 116.72624206542969, 107.33978271484375, 102.32707977294922, 101.2785415649414, 98.9320297241211, 92.56768798828125, 88.38741302490234, 87.83253479003906, 87.26596069335938, 86.23584747314453, 85.6983413696289, 83.85713195800781, 81.17332458496094, 401.2651062011719, 557.8366088867188, 141.72271728515625, 2077.5908203125, 921.7598266601562, 167.4641571044922, 3144.665283203125, 315.10748291015625, 244.94674682617188, 518.94091796875, 253.57000732421875, 542.9775390625, 234.0870819091797, 819.4330444335938, 365.6650390625, 264.60430908203125, 207.11563110351562, 254.72776794433594, 468.03094482421875, 302.6081237792969, 256.5980529785156, 277.3443298339844, 226.71905517578125, 4482.896484375, 4363.4794921875, 777.4902954101562, 579.06591796875, 367.9731750488281, 334.9574890136719, 314.9354248046875, 285.400634765625, 271.4226379394531, 253.19046020507812, 223.52517700195312, 169.63735961914062, 167.2910919189453, 157.38156127929688, 152.15736389160156, 136.26925659179688, 123.11394500732422, 118.48976135253906, 112.23883819580078, 99.95008850097656, 96.66907501220703, 95.42561340332031, 90.93583679199219, 87.46175384521484, 83.54202270507812, 83.45464324951172, 81.10025024414062, 78.73665618896484, 77.2758560180664, 75.52847290039062, 321.497314453125, 1041.5137939453125, 269.81298828125, 2124.444580078125, 369.429931640625, 730.3914184570312, 236.36447143554688, 238.82826232910156, 289.64520263671875, 351.4317932128906, 283.7438049316406, 297.2469177246094, 350.16839599609375, 171.96958923339844, 203.42845153808594, 182.04527282714844, 632.0548706054688, 617.418701171875, 605.9043579101562, 520.5738525390625, 286.83990478515625, 244.5006103515625, 240.79629516601562, 231.73944091796875, 221.6099090576172, 186.288330078125, 179.38409423828125, 178.02772521972656, 162.44912719726562, 154.1986083984375, 140.87318420410156, 115.12643432617188, 113.56372833251953, 111.19461822509766, 102.10990905761719, 99.58490753173828, 99.62560272216797, 97.2393569946289, 84.30838012695312, 80.82814025878906, 74.3621597290039, 71.08865356445312, 70.37114715576172, 64.37603759765625, 63.79069519042969, 59.575443267822266, 337.7977294921875, 426.5314025878906, 309.2112121582031, 120.79718017578125, 115.0389404296875, 84.1689682006836, 88.44315338134766, 893.1691284179688, 494.5067443847656, 274.3427734375, 273.46685791015625, 265.4183349609375, 193.33871459960938, 174.88429260253906, 174.83706665039062, 74.44485473632812, 75.95433044433594, 56.60928726196289, 54.64019012451172, 46.20041275024414, 45.64605712890625, 43.899070739746094, 41.811561584472656, 41.065185546875, 41.004459381103516, 40.83711624145508, 45.59677505493164, 37.67863082885742, 37.66281509399414, 32.86692810058594, 35.18235778808594, 35.87306213378906, 28.011211395263672, 29.12108612060547, 28.651451110839844, 25.490097045898438, 25.091388702392578, 40.9101676940918, 212.77664184570312, 163.64219665527344, 155.12222290039062, 146.669677734375, 83.60894775390625, 80.5097427368164, 74.94713592529297, 71.99935913085938, 53.02794647216797, 39.736976623535156, 33.242103576660156, 32.745765686035156, 31.450944900512695, 24.804838180541992, 21.864057540893555, 19.728788375854492, 18.148473739624023, 15.914670944213867, 15.79448127746582, 14.997115135192871, 14.998034477233887, 14.970891952514648, 14.637738227844238, 14.625409126281738, 13.887653350830078, 13.276680946350098, 11.590267181396484, 11.5772705078125, 11.059907913208008, 10.621027946472168, 36.390785217285156], \"Term\": [\"com\", \"vape\", \"none\", \"juul\", \"comment\", \"tr\", \"lti\", \"png\", \"xymarket\", \"www\", \"imgur\", \"pod\", \"paypal\", \"origin\", \"mod\", \"aegi\", \"smoke\", \"hit\", \"misc\", \"new\", \"anvil\", \"batteri\", \"dynam\", \"reddit\", \"question\", \"one\", \"mg\", \"coil\", \"cyclon\", \"like\", \"smoke\", \"cigarett\", \"cbd\", \"fuck\", \"oil\", \"weed\", \"talk\", \"effect\", \"night\", \"took\", \"hour\", \"felt\", \"watch\", \"call\", \"shit\", \"live\", \"state\", \"porn\", \"home\", \"extract\", \"told\", \"drug\", \"minut\", \"cannabi\", \"smell\", \"play\", \"anxieti\", \"school\", \"sleep\", \"cannabinoid\", \"girl\", \"peopl\", \"said\", \"life\", \"friend\", \"tell\", \"feel\", \"high\", \"day\", \"stop\", \"time\", \"take\", \"year\", \"could\", \"go\", \"even\", \"like\", \"back\", \"quit\", \"want\", \"thing\", \"get\", \"start\", \"think\", \"say\", \"would\", \"make\", \"one\", \"tri\", \"still\", \"never\", \"much\", \"work\", \"flavor\", \"tast\", \"ohm\", \"liquid\", \"recommend\", \"smok\", \"rta\", \"bought\", \"suggest\", \"tobacco\", \"replac\", \"wrong\", \"im\", \"close\", \"mind\", \"appreci\", \"brand\", \"cloud\", \"least\", \"break\", \"wick\", \"half\", \"burn\", \"dri\", \"rang\", \"fine\", \"stick\", \"hi\", \"flavour\", \"rememb\", \"juic\", \"vape\", \"thank\", \"switch\", \"look\", \"new\", \"use\", \"good\", \"buy\", \"coil\", \"get\", \"like\", \"tri\", \"realli\", \"need\", \"better\", \"best\", \"would\", \"everyth\", \"help\", \"someth\", \"one\", \"got\", \"want\", \"much\", \"anyon\", \"tank\", \"first\", \"go\", \"hit\", \"also\", \"tr\", \"lti\", \"png\", \"aegi\", \"misc\", \"anvil\", \"dynam\", \"cyclon\", \"constel\", \"jumpwork\", \"sabr\", \"banu\", \"vanguard\", \"hornet\", \"nox\", \"explor\", \"aerospac\", \"rsi\", \"tumbril\", \"tour\", \"hull\", \"starfar\", \"defend\", \"yi\", \"drake\", \"aurora\", \"caterpillar\", \"aveng\", \"merchantman\", \"aquila\", \"origin\", \"imgur\", \"com\", \"ship\", \"pack\", \"vapor\", \"nbsp\", \"atom\", \"smoker\", \"button\", \"pic\", \"tc\", \"drip\", \"design\", \"mode\", \"airflow\", \"bottom\", \"deck\", \"screen\", \"vaper\", \"cap\", \"dual\", \"featur\", \"bring\", \"perform\", \"ecig\", \"ss\", \"delet\", \"strawberri\", \"elegomal\", \"fvape\", \"adjust\", \"mesh\", \"capac\", \"ring\", \"mm\", \"color\", \"power\", \"rda\", \"mod\", \"batteri\", \"includ\", \"fire\", \"review\", \"box\", \"amp\", \"kit\", \"top\", \"build\", \"tank\", \"product\", \"com\", \"coil\", \"imgur\", \"tip\", \"www\", \"come\", \"xymarket\", \"amazon\", \"usa\", \"gc\", \"xbox\", \"cough\", \"ta\", \"ps\", \"especi\", \"dab\", \"ds\", \"ejuic\", \"wallet\", \"steam\", \"btc\", \"ego\", \"psn\", \"classic\", \"pair\", \"macbook\", \"leftov\", \"venmo\", \"soul\", \"digit\", \"crypto\", \"eth\", \"de\", \"bundl\", \"usd\", \"ghoul\", \"paypal\", \"card\", \"comment\", \"game\", \"us\", \"offer\", \"balanc\", \"amp\", \"pass\", \"wts\", \"code\", \"month\", \"ca\", \"guid\", \"rebuild\", \"vendor\", \"key\", \"pro\", \"silver\", \"youtu\", \"istick\", \"suck\", \"authent\", \"wiki\", \"oh\", \"toler\", \"gif\", \"submiss\", \"aspect\", \"iphon\", \"index\", \"lighter\", \"sexi\", \"retail\", \"va\", \"relationship\", \"twitter\", \"logo\", \"compact\", \"gotta\", \"member\", \"brass\", \"accessori\", \"youtub\", \"thread\", \"intern\", \"www\", \"reddit\", \"channel\", \"com\", \"user\", \"discuss\", \"post\", \"link\", \"question\", \"daili\", \"comment\", \"point\", \"sub\", \"beginn\", \"gt\", \"vape\", \"new\", \"see\", \"imgur\", \"pleas\", \"none\", \"juul\", \"pen\", \"addict\", \"squonk\", \"mom\", \"empti\", \"bf\", \"mint\", \"id\", \"alien\", \"wtb\", \"knowledg\", \"social\", \"puls\", \"assum\", \"rose\", \"fake\", \"exclus\", \"king\", \"launch\", \"plenti\", \"legit\", \"gay\", \"cheaper\", \"tend\", \"plane\", \"creme\", \"ww\", \"ebay\", \"late\", \"remov\", \"uk\", \"pod\", \"wts\", \"hit\", \"code\", \"sell\", \"blue\", \"ship\", \"pack\", \"kit\", \"one\", \"starter\", \"buy\", \"pleas\", \"gift\", \"bottl\", \"clean\", \"relat\", \"websit\", \"mango\", \"menthol\", \"harm\", \"vs\", \"front\", \"pc\", \"suorin\", \"shake\", \"ban\", \"upon\", \"trade\", \"comput\", \"rock\", \"what\", \"pink\", \"sport\", \"teen\", \"forgot\", \"fl\", \"cucumb\", \"conclud\", \"desk\", \"restaur\", \"crap\", \"expos\", \"account\", \"pm\", \"yes\", \"citi\", \"scienc\", \"monitor\", \"verifi\", \"mg\", \"thc\", \"salt\", \"nic\", \"gone\", \"receptor\", \"per\", \"cb\", \"solvent\", \"endocannabinoid\", \"molecul\", \"oven\", \"bind\", \"premium\", \"bho\", \"realis\", \"idiot\", \"cbg\", \"cbn\", \"anandamid\", \"ether\", \"affin\", \"agent\", \"isopren\", \"invent\", \"snort\", \"agonist\", \"citat\", \"scope\", \"mice\", \"mr\", \"gb\", \"fun\", \"lead\", \"compat\", \"rise\", \"travel\", \"ny\", \"beer\", \"februari\", \"pussi\", \"feb\", \"sexual\", \"poli\", \"narrat\", \"fantasi\", \"craft\", \"moral\", \"shield\", \"democrat\", \"highway\", \"worker\", \"royal\", \"carcinogen\", \"podcast\", \"honor\", \"kink\", \"punish\", \"arsenic\", \"archiv\", \"sip\", \"york\"], \"Total\": [13051.0, 15106.0, 4483.0, 4364.0, 5552.0, 7517.0, 7362.0, 6464.0, 3132.0, 3307.0, 8243.0, 2936.0, 2885.0, 6530.0, 4267.0, 4350.0, 4507.0, 2073.0, 3174.0, 3744.0, 3028.0, 2642.0, 2723.0, 1476.0, 1792.0, 4440.0, 894.0, 4258.0, 2473.0, 7233.0, 4507.13134765625, 1560.97509765625, 1229.2088623046875, 996.4283447265625, 978.1868286132812, 939.3140258789062, 915.1679077148438, 876.5950317382812, 843.5379028320312, 820.8582763671875, 759.6866455078125, 745.9796142578125, 728.6460571289062, 706.7739868164062, 683.4127807617188, 672.4977416992188, 642.206787109375, 620.768798828125, 597.2335205078125, 591.0783081054688, 583.6309814453125, 580.7481079101562, 555.9114379882812, 521.36328125, 517.921142578125, 510.3280029296875, 501.7264404296875, 487.5890197753906, 484.6870422363281, 469.6824645996094, 707.983154296875, 1548.8048095703125, 1052.091552734375, 1107.3529052734375, 1296.45654296875, 873.2313842773438, 3089.843505859375, 1971.487060546875, 3233.710693359375, 1072.4405517578125, 4234.2802734375, 1983.205322265625, 2613.71630859375, 1893.890869140625, 3737.24072265625, 2164.863525390625, 7233.37939453125, 2076.6005859375, 1890.763427734375, 3577.875244140625, 2391.768310546875, 6473.35546875, 2643.192626953125, 2270.80029296875, 1765.655029296875, 3673.584228515625, 2497.85791015625, 4440.6064453125, 3666.90380859375, 2088.21630859375, 1353.5467529296875, 2583.762451171875, 2303.933837890625, 2280.487548828125, 1614.822998046875, 1244.842041015625, 1237.6903076171875, 1210.7530517578125, 847.2000122070312, 784.9088134765625, 782.7230224609375, 755.7127075195312, 730.5660400390625, 670.4244995117188, 631.350341796875, 623.5487670898438, 614.0772705078125, 607.5313110351562, 607.9197998046875, 599.6533813476562, 596.501953125, 572.4605712890625, 564.4026489257812, 559.2554931640625, 555.5899658203125, 543.5858764648438, 541.739990234375, 537.1467895507812, 518.7633056640625, 507.6556701660156, 491.7379455566406, 484.5126953125, 480.87457275390625, 2862.5283203125, 15106.5859375, 1822.759033203125, 731.3016967773438, 3470.596923828125, 3744.6708984375, 6272.8984375, 3043.207275390625, 1667.538818359375, 4258.8388671875, 6473.35546875, 7233.37939453125, 3666.90380859375, 3009.35693359375, 2640.56103515625, 1385.623291015625, 1536.0767822265625, 3673.584228515625, 1041.9788818359375, 2697.916259765625, 2226.286376953125, 4440.6064453125, 2611.09716796875, 3577.875244140625, 2583.762451171875, 1595.577880859375, 3568.96875, 2192.877197265625, 3737.24072265625, 2073.49658203125, 2904.6943359375, 7517.40576171875, 7362.22314453125, 6464.3046875, 4350.5634765625, 3174.58740234375, 3028.445556640625, 2723.661865234375, 2473.590087890625, 2278.94873046875, 2258.251220703125, 2032.3216552734375, 1887.7099609375, 1858.9031982421875, 1744.382080078125, 1737.0579833984375, 1582.75, 1563.70166015625, 1466.6536865234375, 1413.6241455078125, 1407.20556640625, 1395.5426025390625, 1394.6025390625, 1281.41015625, 1207.6209716796875, 1138.941162109375, 1106.0977783203125, 1046.473876953125, 1045.0972900390625, 1020.5449829101562, 1018.3712768554688, 6530.05078125, 8243.5537109375, 13051.4619140625, 1850.7266845703125, 2007.0543212890625, 1734.3404541015625, 814.8563842773438, 772.9735107421875, 742.048095703125, 739.6795654296875, 715.54833984375, 713.470947265625, 632.310302734375, 579.7815551757812, 570.9681396484375, 559.8999633789062, 555.0211181640625, 522.522216796875, 510.44439697265625, 508.33160400390625, 490.54791259765625, 469.77484130859375, 469.1645202636719, 438.3944396972656, 428.97308349609375, 395.975830078125, 391.5592956542969, 383.8272399902344, 361.5655212402344, 344.4588623046875, 339.8389892578125, 336.151123046875, 326.9591979980469, 325.1554260253906, 318.1124267578125, 987.026611328125, 660.5416870117188, 997.88720703125, 1366.1927490234375, 4267.3798828125, 2642.05419921875, 1179.4227294921875, 769.5940551757812, 1424.2506103515625, 1297.036865234375, 2797.74609375, 2611.1162109375, 1063.6375732421875, 1232.5904541015625, 3568.96875, 2042.2894287109375, 13051.4619140625, 4258.8388671875, 8243.5537109375, 1001.0397338867188, 3307.323974609375, 2234.26220703125, 3132.307861328125, 620.4597778320312, 589.52783203125, 550.9391479492188, 274.036376953125, 246.7220001220703, 234.72976684570312, 212.09988403320312, 184.5027313232422, 184.10787963867188, 163.74502563476562, 162.45046997070312, 146.94442749023438, 144.4302215576172, 134.19046020507812, 119.4561996459961, 119.07964324951172, 113.08187103271484, 112.80533599853516, 112.62427520751953, 109.1851577758789, 99.75980377197266, 99.18528747558594, 93.38355255126953, 92.89605712890625, 91.842529296875, 88.98912048339844, 86.24978637695312, 84.67027282714844, 83.81450653076172, 2885.93798828125, 533.9313354492188, 5552.8564453125, 1104.2177734375, 1037.327392578125, 833.3118896484375, 208.81393432617188, 2797.74609375, 318.4779968261719, 580.6990356445312, 496.50885009765625, 1836.09033203125, 397.8335876464844, 304.1373291015625, 296.27447509765625, 279.3971252441406, 263.06085205078125, 250.0208740234375, 248.27281188964844, 243.99847412109375, 221.96902465820312, 213.2663116455078, 206.44004821777344, 202.14332580566406, 198.96595764160156, 192.5278778076172, 145.80723571777344, 144.4116668701172, 138.11643981933594, 123.72178649902344, 117.61519622802734, 108.22875213623047, 103.21813201904297, 102.16757202148438, 99.8209228515625, 93.45704650878906, 89.27632904052734, 88.7215805053711, 88.15496063232422, 87.12503051757812, 86.58739471435547, 84.74625396728516, 82.06238555908203, 456.4041442871094, 675.0805053710938, 150.0569305419922, 3307.323974609375, 1476.8277587890625, 204.14561462402344, 13051.4619140625, 537.0037231445312, 397.5145263671875, 1334.485107421875, 479.1304626464844, 1792.832275390625, 456.7928771972656, 5552.8564453125, 1372.5238037109375, 697.9686889648438, 392.5506286621094, 1175.3638916015625, 15106.5859375, 3744.6708984375, 1811.3662109375, 8243.5537109375, 942.1300048828125, 4483.76904296875, 4364.35205078125, 778.363525390625, 579.93896484375, 368.84625244140625, 335.8306579589844, 315.8085021972656, 286.27386474609375, 272.29559326171875, 254.06373596191406, 224.39833068847656, 170.5104217529297, 168.16458129882812, 158.25474548339844, 153.0305938720703, 137.14244079589844, 123.98845672607422, 119.36305236816406, 113.11243438720703, 100.82400512695312, 97.54241943359375, 96.29920196533203, 91.80882263183594, 88.33651733398438, 84.4150390625, 84.32771301269531, 81.97352600097656, 79.60971069335938, 78.1494369506836, 76.40196990966797, 335.44854736328125, 1137.318603515625, 283.474609375, 2936.57421875, 580.6990356445312, 2073.49658203125, 496.50885009765625, 522.7219848632812, 982.554443359375, 1850.7266845703125, 2007.0543212890625, 2611.1162109375, 4440.6064453125, 577.9157104492188, 1667.538818359375, 942.1300048828125, 632.9268188476562, 618.2903442382812, 606.7760009765625, 521.4458618164062, 287.71148681640625, 245.37213134765625, 241.66778564453125, 232.61106872558594, 222.48150634765625, 187.15997314453125, 180.2562713623047, 178.89926147460938, 163.32073974609375, 155.07017517089844, 141.7451171875, 115.99819946289062, 114.43545532226562, 112.0663833618164, 102.98163604736328, 100.45677185058594, 100.49796295166016, 98.1109848022461, 85.18016815185547, 81.70021057128906, 75.23365020751953, 71.96022033691406, 71.2429428100586, 65.2476806640625, 64.66236114501953, 60.44720458984375, 385.8031005859375, 641.8460693359375, 451.8896179199219, 173.19583129882812, 177.34747314453125, 107.77642059326172, 211.28460693359375, 894.0838012695312, 495.42132568359375, 275.2574157714844, 274.3814697265625, 266.3333435058594, 194.27413940429688, 175.7991485595703, 175.7523956298828, 75.35944366455078, 76.91158294677734, 57.524147033691406, 55.5551643371582, 47.1151008605957, 46.567710876464844, 44.81370544433594, 42.726318359375, 41.979854583740234, 41.91908264160156, 41.759910583496094, 46.661285400390625, 38.59440994262695, 38.57883071899414, 33.782562255859375, 36.216732025146484, 36.937923431396484, 28.926055908203125, 30.115503311157227, 29.655054092407227, 26.405025482177734, 26.00641441345215, 230.89999389648438, 213.70236206054688, 164.56591796875, 156.0458221435547, 147.59359741210938, 84.53286743164062, 81.43365478515625, 75.87105560302734, 72.9229507446289, 53.95161437988281, 40.66135025024414, 34.16590881347656, 33.66957092285156, 32.375648498535156, 25.728565216064453, 22.787769317626953, 20.65265655517578, 19.07269287109375, 16.838233947753906, 16.717998504638672, 15.92066764831543, 15.922152519226074, 15.89462947845459, 15.561210632324219, 15.549173355102539, 14.811229705810547, 14.200409889221191, 12.513947486877441, 12.501884460449219, 11.984472274780273, 11.544721603393555, 95.89753723144531], \"loglift\": [30.0, 29.0, 28.0, 27.0, 26.0, 25.0, 24.0, 23.0, 22.0, 21.0, 20.0, 19.0, 18.0, 17.0, 16.0, 15.0, 14.0, 13.0, 12.0, 11.0, 10.0, 9.0, 8.0, 7.0, 6.0, 5.0, 4.0, 3.0, 2.0, 1.0, 1.2263000011444092, 1.2259999513626099, 1.2258000373840332, 1.225600004196167, 1.225600004196167, 1.225600004196167, 1.225600004196167, 1.2254999876022339, 1.2254999876022339, 1.2254999876022339, 1.2253999710083008, 1.2252999544143677, 1.2252999544143677, 1.2252999544143677, 1.2252000570297241, 1.2252000570297241, 1.2252000570297241, 1.225100040435791, 1.225100040435791, 1.225000023841858, 1.225000023841858, 1.225000023841858, 1.2249000072479248, 1.2247999906539917, 1.2247999906539917, 1.2247999906539917, 1.2247999906539917, 1.2246999740600586, 1.2246999740600586, 1.2246999740600586, 1.2138999700546265, 1.1420999765396118, 1.1679999828338623, 1.1629999876022339, 1.1474000215530396, 1.177899956703186, 1.059499979019165, 1.0645999908447266, 0.9570000171661377, 1.1139999628067017, 0.8093000054359436, 0.9297000169754028, 0.8375999927520752, 0.8881999850273132, 0.6477000117301941, 0.8222000002861023, 0.3946000039577484, 0.7926999926567078, 0.8255000114440918, 0.532800018787384, 0.6987000107765198, 0.23960000276565552, 0.6492999792098999, 0.6578999757766724, 0.7890999913215637, 0.31869998574256897, 0.5354999899864197, 0.10750000178813934, 0.22439999878406525, 0.6218000054359436, 0.9527999758720398, 0.36809998750686646, 0.44110000133514404, 1.2623000144958496, 1.2621999979019165, 1.2619999647140503, 1.2619999647140503, 1.2619999647140503, 1.2617000341415405, 1.2616000175476074, 1.2616000175476074, 1.2616000175476074, 1.2615000009536743, 1.2613999843597412, 1.261299967765808, 1.261299967765808, 1.261299967765808, 1.261299967765808, 1.261299967765808, 1.261299967765808, 1.261199951171875, 1.261199951171875, 1.261199951171875, 1.2611000537872314, 1.2611000537872314, 1.2611000537872314, 1.2611000537872314, 1.2611000537872314, 1.2610000371932983, 1.2610000371932983, 1.2609000205993652, 1.2609000205993652, 1.2609000205993652, 1.2345999479293823, 1.1777000427246094, 1.2344000339508057, 1.2454999685287476, 1.1437000036239624, 1.1311999559402466, 1.0757999420166016, 1.1233999729156494, 1.132099986076355, 0.8593000173568726, 0.7516000270843506, 0.691100001335144, 0.8048999905586243, 0.8416000008583069, 0.8711000084877014, 1.0434000492095947, 1.0133999586105347, 0.7458999752998352, 1.1117000579833984, 0.7961999773979187, 0.8571000099182129, 0.5852000117301941, 0.775600016117096, 0.5697000026702881, 0.7109000086784363, 0.9194999933242798, 0.4603999853134155, 0.7275999784469604, 0.3176000118255615, 0.7235999703407288, 0.39469999074935913, 1.6610000133514404, 1.6610000133514404, 1.6610000133514404, 1.6608999967575073, 1.6607999801635742, 1.6607999801635742, 1.6607999801635742, 1.6606999635696411, 1.6606999635696411, 1.6606999635696411, 1.6606999635696411, 1.660599946975708, 1.660599946975708, 1.660599946975708, 1.660599946975708, 1.6605000495910645, 1.6605000495910645, 1.6605000495910645, 1.6605000495910645, 1.6605000495910645, 1.6605000495910645, 1.6605000495910645, 1.6604000329971313, 1.6604000329971313, 1.6603000164031982, 1.6603000164031982, 1.6601999998092651, 1.6601999998092651, 1.6601999998092651, 1.6601999998092651, 1.587499976158142, 1.4333000183105469, 1.0946999788284302, 1.3207000494003296, 1.1398999691009521, 2.1803998947143555, 2.1798999309539795, 2.179800033569336, 2.179800033569336, 2.1796998977661133, 2.1796998977661133, 2.1796998977661133, 2.1796000003814697, 2.1793999671936035, 2.1793999671936035, 2.1793999671936035, 2.1793999671936035, 2.17930006980896, 2.1791999340057373, 2.1791999340057373, 2.1791999340057373, 2.1791000366210938, 2.1791000366210938, 2.1789000034332275, 2.1789000034332275, 2.1786999702453613, 2.1786999702453613, 2.1786999702453613, 2.178499937057495, 2.1784000396728516, 2.1784000396728516, 2.178299903869629, 2.178299903869629, 2.178299903869629, 2.1782000064849854, 2.1480000019073486, 2.1454999446868896, 2.1012001037597656, 2.0678000450134277, 1.973099946975708, 2.0055999755859375, 2.0738000869750977, 2.1106998920440674, 1.999899983406067, 1.997499942779541, 1.6679999828338623, 1.6727999448776245, 1.9104000329971313, 1.8617000579833984, 1.3640999794006348, 1.5936000347137451, 0.5278000235557556, 1.0190000534057617, 0.4088999927043915, 1.7940000295639038, 0.7861999869346619, 1.0634000301361084, 3.335900068283081, 3.3348000049591064, 3.334700107574463, 3.3345999717712402, 3.332900047302246, 3.3326001167297363, 3.33240008354187, 3.3320000171661377, 3.3313000202178955, 3.3313000202178955, 3.330699920654297, 3.330699920654297, 3.3301000595092773, 3.3299999237060547, 3.3294999599456787, 3.328700065612793, 3.328700065612793, 3.3282999992370605, 3.328200101852417, 3.328200101852417, 3.328000068664551, 3.327199935913086, 3.3271000385284424, 3.3266000747680664, 3.3264999389648438, 3.3264000415802, 3.3261001110076904, 3.3257999420166016, 3.3255999088287354, 3.3254001140594482, 3.250499963760376, 3.259000062942505, 3.029400110244751, 2.7755000591278076, 2.5687999725341797, 2.558000087738037, 2.888200044631958, 0.9545999765396118, 2.446500062942505, 1.9900000095367432, 2.0785999298095703, 0.972599983215332, 2.1103999614715576, 3.481300115585327, 3.4811999797821045, 3.481100082397461, 3.4809000492095947, 3.4807000160217285, 3.4807000160217285, 3.480600118637085, 3.4802000522613525, 3.48009991645813, 3.4798998832702637, 3.47979998588562, 3.47979998588562, 3.479599952697754, 3.478100061416626, 3.478100061416626, 3.477799892425537, 3.4769999980926514, 3.4767000675201416, 3.4760000705718994, 3.475600004196167, 3.4755001068115234, 3.4753000736236572, 3.4746999740600586, 3.4742000102996826, 3.4742000102996826, 3.474100112915039, 3.4739999771118164, 3.473900079727173, 3.4737000465393066, 3.473400115966797, 3.3554999828338623, 3.2934999465942383, 3.4270999431610107, 3.0192999839782715, 3.0129001140594482, 3.2862000465393066, 2.0611000061035156, 2.951200008392334, 3.0000998973846436, 2.5397000312805176, 2.847899913787842, 2.289799928665161, 2.815700054168701, 1.5707999467849731, 2.161600112915039, 2.5143001079559326, 2.844899892807007, 1.9551000595092773, 0.00989999994635582, 0.9685999751091003, 1.5298999547958374, 0.09229999780654907, 2.059799909591675, 3.495300054550171, 3.495300054550171, 3.4944000244140625, 3.49399995803833, 3.4930999279022217, 3.4928998947143555, 3.4927000999450684, 3.4923999309539795, 3.492300033569336, 3.492000102996826, 3.4916000366210938, 3.4904000759124756, 3.490299940109253, 3.490000009536743, 3.489799976348877, 3.4890999794006348, 3.4883999824523926, 3.488100051879883, 3.4876999855041504, 3.486799955368042, 3.4865000247955322, 3.4863998889923096, 3.4858999252319336, 3.4855000972747803, 3.485100030899048, 3.485100030899048, 3.484800100326538, 3.484499931335449, 3.4842000007629395, 3.4839999675750732, 3.453000068664551, 3.4075000286102295, 3.4460999965667725, 3.171799898147583, 3.0432000160217285, 2.4521000385284424, 2.7532999515533447, 2.7121999263763428, 2.2739999294281006, 1.8342000246047974, 1.5391000509262085, 1.3224999904632568, 0.9553999900817871, 2.283400058746338, 1.391700029373169, 1.8516000509262085, 4.32450008392334, 4.32450008392334, 4.324399948120117, 4.32420015335083, 4.322800159454346, 4.322299957275391, 4.322299957275391, 4.3221001625061035, 4.322000026702881, 4.321199893951416, 4.321000099182129, 4.321000099182129, 4.320499897003174, 4.320199966430664, 4.319699764251709, 4.318299770355225, 4.31820011138916, 4.3180999755859375, 4.317399978637695, 4.317200183868408, 4.317200183868408, 4.316999912261963, 4.3155999183654785, 4.315100193023682, 4.314199924468994, 4.313700199127197, 4.313600063323975, 4.312399864196777, 4.312300205230713, 4.311399936676025, 4.192999839782715, 3.9172000885009766, 3.946500062942505, 3.96560001373291, 3.8929998874664307, 4.07859992980957, 3.4549999237060547, 4.905700206756592, 4.904900074005127, 4.90339994430542, 4.90339994430542, 4.903299808502197, 4.901899814605713, 4.901500225067139, 4.901500225067139, 4.894499778747559, 4.894199848175049, 4.890699863433838, 4.890100002288818, 4.8871002197265625, 4.88670015335083, 4.886099815368652, 4.8850998878479, 4.884699821472168, 4.884699821472168, 4.884399890899658, 4.883699893951416, 4.882699966430664, 4.882699966430664, 4.879300117492676, 4.877799987792969, 4.877500057220459, 4.874599933624268, 4.873199939727783, 4.872300148010254, 4.871500015258789, 4.8709001541137695, 3.176100015640259, 5.586599826812744, 5.585299968719482, 5.585000038146973, 5.584700107574463, 5.579999923706055, 5.579599857330322, 5.578700065612793, 5.578199863433838, 5.573699951171875, 5.567999839782715, 5.563600063323975, 5.5630998611450195, 5.561999797821045, 5.5543999671936035, 5.549600124359131, 5.545199871063232, 5.541299819946289, 5.534599781036377, 5.53410005569458, 5.531199932098389, 5.531199932098389, 5.531099796295166, 5.529799938201904, 5.529699802398682, 5.526599884033203, 5.52370023727417, 5.5142998695373535, 5.514100074768066, 5.510700225830078, 5.507599830627441, 4.622000217437744], \"logprob\": [30.0, 29.0, 28.0, 27.0, 26.0, 25.0, 24.0, 23.0, 22.0, 21.0, 20.0, 19.0, 18.0, 17.0, 16.0, 15.0, 14.0, 13.0, 12.0, 11.0, 10.0, 9.0, 8.0, 7.0, 6.0, 5.0, 4.0, 3.0, 2.0, 1.0, -4.155300140380859, -5.216000080108643, -5.455100059509277, -5.665200233459473, -5.683700084686279, -5.724299907684326, -5.750400066375732, -5.793499946594238, -5.831999778747559, -5.859300136566162, -5.936800003051758, -5.954999923706055, -5.978600025177002, -6.009099960327148, -6.042699813842773, -6.058800220489502, -6.105000019073486, -6.138999938964844, -6.177700042724609, -6.1880998611450195, -6.200799942016602, -6.205699920654297, -6.249499797821045, -6.313799858093262, -6.320400238037109, -6.33519983291626, -6.352200031280518, -6.380899906158447, -6.3867998123168945, -6.418300151824951, -6.018799781799316, -5.307700157165527, -5.668499946594238, -5.622399806976318, -5.480199813842773, -5.84499979019165, -4.699699878692627, -5.143899917602539, -4.7565999031066895, -5.7032999992370605, -4.634799957275391, -5.272900104522705, -5.088900089263916, -5.360499858856201, -4.921199798583984, -5.292699813842773, -4.513999938964844, -5.363900184631348, -5.424900054931641, -5.079800128936768, -5.316500186920166, -4.78000020980835, -5.265999794006348, -5.409299850463867, -5.529600143432617, -5.267399787902832, -5.436299800872803, -5.289000034332275, -5.36359977722168, -5.529200077056885, -5.631700038909912, -5.570000171661377, -5.611599922180176, -4.800600051879883, -5.145899772644043, -5.406300067901611, -5.412099838256836, -5.434100151062012, -5.791399955749512, -5.8678998947143555, -5.870699882507324, -5.905799865722656, -5.939700126647949, -6.025700092315674, -6.085899829864502, -6.098299980163574, -6.11359977722168, -6.1244001388549805, -6.123799800872803, -6.137499809265137, -6.1427001953125, -6.183899879455566, -6.1981000900268555, -6.207300186157227, -6.213900089263916, -6.235799789428711, -6.239200115203857, -6.247700214385986, -6.282599925994873, -6.304299831390381, -6.33620023727417, -6.35099983215332, -6.35860013961792, -4.60099983215332, -2.9944000244140625, -5.052599906921387, -5.954699993133545, -4.499199867248535, -4.435699939727783, -3.9753000736236572, -4.651000022888184, -5.243899822235107, -4.578999996185303, -4.26800012588501, -4.21750020980835, -4.7829999923706055, -4.943900108337402, -5.045199871063232, -5.5177001953125, -5.4446001052856445, -4.8403000831604, -5.734499931335449, -5.098700046539307, -5.229899883270264, -4.811299800872803, -5.151899814605713, -5.042799949645996, -5.227200031280518, -5.5005998611450195, -5.154600143432617, -5.374499797821045, -5.251299858093262, -5.4344000816345215, -5.426199913024902, -3.2091000080108643, -3.2300000190734863, -3.360100030899048, -3.7560999393463135, -4.071300029754639, -4.118500232696533, -4.224599838256836, -4.320899963378906, -4.402900218963623, -4.4120001792907715, -4.517499923706055, -4.591300010681152, -4.6066999435424805, -4.670300006866455, -4.674499988555908, -4.767600059509277, -4.779699802398682, -4.843800067901611, -4.88070011138916, -4.885200023651123, -4.893599987030029, -4.894199848175049, -4.978899955749512, -5.038300037384033, -5.09689998626709, -5.126200199127197, -5.181600093841553, -5.183000087738037, -5.206699848175049, -5.208899974822998, -3.4233999252319336, -3.344599962234497, -3.2237000465393066, -4.951000213623047, -5.0507001876831055, -4.156300067901611, -4.912199974060059, -4.965000152587891, -5.005899906158447, -5.009099960327148, -5.042300224304199, -5.045199871063232, -5.166100025177002, -5.252999782562256, -5.2683000564575195, -5.287899971008301, -5.2967000007629395, -5.357100009918213, -5.3805999755859375, -5.384699821472168, -5.420400142669678, -5.463699817657471, -5.465000152587891, -5.5329999923706055, -5.554800033569336, -5.635000228881836, -5.646200180053711, -5.666200160980225, -5.726099967956543, -5.774700164794922, -5.7881999015808105, -5.799200057983398, -5.827000141143799, -5.832499980926514, -5.854499816894531, -4.752399921417236, -5.156499862670898, -4.7881999015808105, -4.507500171661377, -3.463200092315674, -3.910099983215332, -4.648399829864502, -5.03849983215332, -4.533699989318848, -4.629700183868408, -4.190499782562256, -4.254799842834473, -4.915200233459473, -4.816500186920166, -4.250899791717529, -4.579699993133545, -3.790600061416626, -4.419300079345703, -4.36899995803833, -5.092199802398682, -4.90500020980835, -5.019999980926514, -2.409600019454956, -4.029799938201904, -4.081099987030029, -4.148900032043457, -4.848899841308594, -4.95419979095459, -5.004300117492676, -5.105999946594238, -5.246099948883057, -5.248199939727783, -5.366000175476074, -5.374000072479248, -5.474899768829346, -5.492300033569336, -5.566299915313721, -5.6834001541137695, -5.686600208282471, -5.738699913024902, -5.741199970245361, -5.742800235748291, -5.77400016784668, -5.865099906921387, -5.8709001541137695, -5.93179988861084, -5.937099933624268, -5.948599815368652, -5.980400085449219, -6.01200008392334, -6.030700206756592, -6.040999889373779, -2.5769999027252197, -4.255799770355225, -2.1435999870300293, -4.012700080871582, -4.281799793243408, -4.51170015335083, -5.565400123596191, -4.903900146484375, -5.585000038146973, -5.440800189971924, -5.508800029754639, -5.30709981918335, -5.698599815368652, -4.59630012512207, -4.622499942779541, -4.681399822235107, -4.741799831390381, -4.792799949645996, -4.799900054931641, -4.817299842834473, -4.912300109863281, -4.952400207519531, -4.985099792480469, -5.006199836730957, -5.022200107574463, -5.055200099945068, -5.334700107574463, -5.344299793243408, -5.389200210571289, -5.5, -5.551000118255615, -5.634799957275391, -5.682600021362305, -5.69290018081665, -5.716400146484375, -5.782899856567383, -5.829100131988525, -5.835400104522705, -5.841800212860107, -5.853700160980225, -5.860000133514404, -5.881700038909912, -5.9141998291015625, -4.316199779510498, -3.9867000579833984, -5.356900215148926, -2.671799898147583, -3.484499931335449, -5.190000057220459, -2.2572999000549316, -4.5578999519348145, -4.809800148010254, -4.059000015258789, -4.775199890136719, -4.013700008392334, -4.855100154876709, -3.6022000312805176, -4.40910005569458, -4.732600212097168, -4.977499961853027, -4.770599842071533, -4.162300109863281, -4.598400115966797, -4.763299942016602, -4.685500144958496, -4.8871002197265625, -1.8914999961853027, -1.9184999465942383, -3.6435000896453857, -3.938199996948242, -4.391600131988525, -4.485599994659424, -4.5472002029418945, -4.645699977874756, -4.695899963378906, -4.765399932861328, -4.889999866485596, -5.165900230407715, -5.179800033569336, -5.240900039672852, -5.274700164794922, -5.384900093078613, -5.486499786376953, -5.524700164794922, -5.57889986038208, -5.694900035858154, -5.728300094604492, -5.741199970245361, -5.789400100708008, -5.828400135040283, -5.874199867248535, -5.87529993057251, -5.903900146484375, -5.933499813079834, -5.952199935913086, -5.975100040435791, -4.526599884033203, -3.351099967956543, -4.7017998695373535, -2.6382999420166016, -4.387599945068359, -3.7060000896453857, -4.834199905395508, -4.823800086975098, -4.630899906158447, -4.437600135803223, -4.651500225067139, -4.605000019073486, -4.441199779510498, -5.152299880981445, -4.984300136566162, -5.095300197601318, -3.02020001411438, -3.043600082397461, -3.0625, -3.214200019836426, -3.81030011177063, -3.9700000286102295, -3.9851999282836914, -4.023600101470947, -4.068299770355225, -4.2418999671936035, -4.279699802398682, -4.287199974060059, -4.378799915313721, -4.4309000968933105, -4.521299839019775, -4.723100185394287, -4.736800193786621, -4.757900238037109, -4.843100070953369, -4.868199825286865, -4.867800235748291, -4.892000198364258, -5.0346999168396, -5.076900005340576, -5.160200119018555, -5.2052998542785645, -5.215400218963623, -5.3043999671936035, -5.313600063323975, -5.381899833679199, -3.646699905395508, -3.4135000705718994, -3.7351999282836914, -4.675099849700928, -4.723899841308594, -5.036399841308594, -4.986800193786621, -2.0934998989105225, -2.684799909591675, -3.273900032043457, -3.277100086212158, -3.306999921798706, -3.6238999366760254, -3.7242000102996826, -3.7244999408721924, -4.5782999992370605, -4.558199882507324, -4.852099895477295, -4.887599945068359, -5.055300235748291, -5.067399978637695, -5.106400012969971, -5.155099868774414, -5.1732001304626465, -5.174600124359131, -5.178699970245361, -5.06850004196167, -5.259200096130371, -5.2596001625061035, -5.395899772644043, -5.3277997970581055, -5.308300018310547, -5.555699825286865, -5.516900062561035, -5.533100128173828, -5.650000095367432, -5.665800094604492, -5.1768999099731445, -2.843899965286255, -3.1064000129699707, -3.159899950027466, -3.21589994430542, -3.777899980545044, -3.815700054168701, -3.8873000144958496, -3.9274001121520996, -4.23330020904541, -4.5218000411987305, -4.700300216674805, -4.7153000831604, -4.75570011138916, -4.993100166320801, -5.119200229644775, -5.2220001220703125, -5.305500030517578, -5.4369001388549805, -5.444399833679199, -5.496200084686279, -5.496200084686279, -5.498000144958496, -5.520500183105469, -5.521299839019775, -5.5731000900268555, -5.618100166320801, -5.753900051116943, -5.755000114440918, -5.80079984664917, -5.841300010681152, -4.609799861907959]}, \"token.table\": {\"Topic\": [6, 1, 8, 7, 4, 3, 3, 9, 9, 9, 4, 7, 1, 2, 3, 4, 5, 3, 4, 5, 6, 9, 3, 1, 1, 2, 7, 2, 3, 10, 10, 6, 7, 4, 3, 6, 3, 1, 2, 4, 2, 5, 8, 3, 2, 4, 10, 1, 6, 1, 2, 3, 6, 1, 2, 4, 7, 9, 9, 2, 3, 5, 7, 8, 4, 2, 2, 4, 2, 6, 2, 4, 5, 2, 4, 5, 2, 4, 2, 7, 2, 3, 5, 1, 1, 1, 4, 4, 10, 1, 5, 3, 9, 1, 9, 9, 4, 6, 7, 1, 9, 1, 8, 5, 8, 2, 2, 3, 5, 7, 2, 4, 6, 1, 4, 3, 4, 6, 1, 2, 3, 4, 3, 5, 6, 6, 10, 8, 8, 3, 5, 1, 2, 10, 8, 7, 5, 8, 3, 5, 1, 6, 1, 2, 6, 5, 4, 3, 4, 10, 4, 8, 5, 1, 6, 3, 2, 4, 1, 5, 4, 3, 7, 4, 1, 5, 5, 4, 7, 9, 5, 5, 9, 1, 2, 2, 6, 7, 3, 8, 1, 7, 10, 4, 10, 10, 1, 2, 4, 6, 1, 2, 1, 2, 4, 1, 2, 8, 2, 2, 8, 1, 2, 8, 1, 10, 4, 1, 3, 5, 7, 10, 5, 1, 2, 3, 5, 6, 8, 1, 5, 1, 2, 6, 9, 1, 2, 1, 2, 6, 3, 4, 6, 6, 2, 8, 1, 2, 6, 2, 1, 2, 4, 10, 1, 2, 7, 1, 10, 3, 1, 3, 7, 9, 2, 3, 4, 6, 1, 3, 4, 6, 1, 6, 9, 6, 9, 6, 2, 6, 3, 7, 6, 7, 10, 2, 3, 4, 7, 7, 7, 9, 7, 10, 2, 5, 7, 1, 2, 6, 1, 2, 1, 3, 5, 6, 2, 1, 6, 1, 2, 5, 3, 5, 1, 2, 3, 4, 8, 6, 8, 3, 4, 9, 9, 2, 7, 1, 3, 3, 4, 2, 4, 6, 4, 9, 7, 6, 8, 1, 2, 3, 5, 10, 3, 5, 9, 1, 2, 10, 4, 1, 2, 7, 1, 2, 4, 2, 3, 5, 6, 9, 1, 7, 3, 10, 1, 2, 3, 5, 6, 2, 1, 1, 2, 4, 7, 3, 4, 5, 9, 1, 2, 3, 7, 5, 1, 5, 3, 5, 8, 7, 1, 2, 9, 4, 4, 8, 7, 1, 1, 2, 3, 4, 6, 7, 7, 3, 7, 8, 3, 3, 7, 10, 1, 2, 6, 10, 1, 1, 2, 6, 1, 4, 9, 6, 1, 2, 3, 4, 5, 5, 7, 10, 10, 1, 2, 6, 1, 2, 2, 2, 4, 9, 1, 2, 3, 6, 9, 2, 3, 6, 8, 6, 2, 4, 7, 2, 8, 6, 2, 4, 4, 10, 8, 7, 10, 3, 2, 3, 1, 3, 9, 1, 2, 4, 1, 3, 8, 9, 4, 1, 2, 3, 4, 6, 2, 3, 5, 7, 6, 10, 8, 10, 3, 5, 6, 7, 1, 6, 10, 1, 1, 2, 1, 4, 9, 7, 9, 1, 2, 5, 8, 7, 4, 3, 1, 2, 2, 3, 6, 7, 1, 5, 2, 1, 2, 1, 2, 4, 1, 6, 6, 6, 2, 8, 1, 2, 5, 1, 2, 1, 2, 3, 4, 2, 4, 8, 1, 2, 7, 1, 2, 9, 1, 2, 3, 1, 2, 3, 6, 1, 2, 3, 4, 2, 4, 2, 1, 6, 1, 1, 2, 4, 6, 3, 3, 8, 10, 1, 2, 3, 6, 1, 7, 8, 1, 4, 5, 5, 5, 1, 2, 3, 4, 1, 2, 4, 6, 6, 3, 1, 2, 6, 4, 4, 6, 5, 3, 8, 8, 5, 1, 2, 1, 8, 1, 8, 2, 6, 1, 2, 4, 10, 1, 2, 2, 7, 3, 5, 7, 7, 3, 4, 6, 5, 5, 1, 2, 3, 1, 3, 4, 8, 3, 3, 10, 6, 2, 6], \"Freq\": [0.9870539307594299, 0.12182380259037018, 0.8760945796966553, 0.9983808994293213, 0.9965755939483643, 0.9998704791069031, 0.9995512962341309, 0.9849961400032043, 0.976835310459137, 0.9629591703414917, 0.998392641544342, 0.9982249140739441, 0.35356560349464417, 0.41966548562049866, 0.04027962684631348, 0.186250239610672, 0.9992589950561523, 0.25735002756118774, 0.598696231842041, 0.09257452189922333, 0.051112573593854904, 0.9858279824256897, 0.9998528957366943, 0.998552143573761, 0.21684932708740234, 0.7094608545303345, 0.07270093262195587, 0.9984869956970215, 0.9986534714698792, 0.917854368686676, 0.959855318069458, 0.9919166564941406, 0.9916696548461914, 0.998740553855896, 0.999007523059845, 0.9978684186935425, 0.9989500641822815, 0.6481747031211853, 0.333718478679657, 0.017817581072449684, 0.35917142033576965, 0.6369307041168213, 0.993098795413971, 0.9996238946914673, 0.16048118472099304, 0.8391197919845581, 0.9873434901237488, 0.47127678990364075, 0.5273205041885376, 0.09569834172725677, 0.7792578935623169, 0.04296660050749779, 0.08137614279985428, 0.19197136163711548, 0.8032486438751221, 0.004330181051045656, 0.9955502152442932, 0.9818424582481384, 0.976332426071167, 0.10177553445100784, 0.5424636006355286, 0.060047563165426254, 0.295149028301239, 0.9979130625724792, 0.9981602430343628, 0.999076247215271, 0.16730442643165588, 0.8326671719551086, 0.9989104270935059, 0.9911942481994629, 0.9992865920066833, 0.9991002678871155, 0.9911285638809204, 0.2725966274738312, 0.7269243597984314, 0.9855096936225891, 0.9989222288131714, 0.9990812540054321, 0.8773409128189087, 0.12173629552125931, 0.11813984811306, 0.5856720209121704, 0.2940928041934967, 0.9989048838615417, 0.9973851442337036, 0.9985469579696655, 0.998883068561554, 0.9964465498924255, 0.9639352560043335, 0.0730431005358696, 0.9252126216888428, 0.9995471835136414, 0.9957190155982971, 0.999016523361206, 0.978074848651886, 0.9818028807640076, 0.17634470760822296, 0.8180435299873352, 0.9950833320617676, 0.9993753433227539, 0.9779108762741089, 0.30023816227912903, 0.6986311078071594, 0.990432858467102, 0.9987211227416992, 0.9982457160949707, 0.999158501625061, 0.23765940964221954, 0.2839828431606293, 0.4753188192844391, 0.6680224537849426, 0.3127613067626953, 0.019019268453121185, 0.033305998891592026, 0.9658739566802979, 0.5675226449966431, 0.19147279858589172, 0.24096918106079102, 0.37954363226890564, 0.23810991644859314, 0.05505172908306122, 0.32717734575271606, 0.1165166050195694, 0.7358375191688538, 0.1474916636943817, 0.9868985414505005, 0.9959781765937805, 0.9961947798728943, 0.9866562485694885, 0.9995837211608887, 0.9970736503601074, 0.7128182649612427, 0.28671133518218994, 0.96839839220047, 0.9897566437721252, 0.9923412799835205, 0.9903541803359985, 0.9836024045944214, 0.9997614622116089, 0.9939824342727661, 0.4859970808029175, 0.5122671723365784, 0.7638283967971802, 0.19420413672924042, 0.04174770414829254, 0.9888849258422852, 0.999000608921051, 0.9996799230575562, 0.9978447556495667, 0.9570523500442505, 0.9986519813537598, 0.9825534820556641, 0.9851841926574707, 0.38237595558166504, 0.6163296699523926, 0.999173641204834, 0.9986340403556824, 0.997927725315094, 0.9987118244171143, 0.9954500794410706, 0.9983506202697754, 0.9997569918632507, 0.994738757610321, 0.9975356459617615, 0.9993212223052979, 0.9961810111999512, 0.9972270131111145, 0.9986678957939148, 0.9974399209022522, 0.9881476759910583, 0.9972752332687378, 0.9908263683319092, 0.9845985770225525, 0.6674785614013672, 0.3321225643157959, 0.8599022626876831, 0.13915829360485077, 0.9901652336120605, 0.9995261430740356, 0.992601752281189, 0.9981756806373596, 0.9885806441307068, 0.9654301404953003, 0.9975178837776184, 0.9658750891685486, 0.9823617339134216, 0.846321165561676, 0.09417952597141266, 0.023302150890231133, 0.03592414781451225, 0.9986867904663086, 0.9985285997390747, 0.05067606642842293, 0.016892021521925926, 0.931659996509552, 0.4140678644180298, 0.5855321288108826, 0.9914295077323914, 0.9997861981391907, 0.9989418387413025, 0.98614501953125, 0.9240571856498718, 0.07559065520763397, 0.9938022494316101, 0.9995701313018799, 0.9965611696243286, 0.9975312352180481, 0.11048544943332672, 0.3187777101993561, 0.570539653301239, 0.9848701357841492, 0.9967133402824402, 0.9982953667640686, 0.37275877594947815, 0.599843442440033, 0.02734285220503807, 0.9902820587158203, 0.9944636821746826, 0.9985356330871582, 0.987311601638794, 0.01129970420151949, 0.5605739951133728, 0.3885219395160675, 0.050572071224451065, 0.9949936866760254, 0.12979726493358612, 0.8701345920562744, 0.3852786421775818, 0.6143011450767517, 0.9870871901512146, 0.6168302297592163, 0.16590607166290283, 0.2169540822505951, 0.9962604641914368, 0.9989381432533264, 0.9973729848861694, 0.3369266986846924, 0.6271506547927856, 0.03595367446541786, 0.99849933385849, 0.8506269454956055, 0.043114662170410156, 0.10601134598255157, 0.9421715140342712, 0.0641428604722023, 0.583073079586029, 0.35206231474876404, 0.9979345798492432, 0.9452287554740906, 0.9992076754570007, 0.999096155166626, 0.9996111989021301, 0.9958131313323975, 0.9766589403152466, 0.9991199374198914, 0.7962585091590881, 0.16995097696781158, 0.03360201418399811, 0.04917659983038902, 0.05172021687030792, 0.8987447619438171, 0.9947693943977356, 0.05331309884786606, 0.9463074803352356, 0.9746081233024597, 0.9941660761833191, 0.966404139995575, 0.9956344366073608, 0.9722174406051636, 0.027597980573773384, 0.999445915222168, 0.9996902346611023, 0.9959672689437866, 0.9918273091316223, 0.9154665470123291, 0.11221254616975784, 0.17234009504318237, 0.6016584038734436, 0.11374446004629135, 0.9930747747421265, 0.9569276571273804, 0.03875407949090004, 0.9944391250610352, 0.9932979941368103, 0.9991954565048218, 0.9891454577445984, 0.9911901354789734, 0.9382736086845398, 0.060504648834466934, 0.9886466860771179, 0.4352045953273773, 0.5646046996116638, 0.16070780158042908, 0.2754990756511688, 0.033393826335668564, 0.5301269888877869, 0.9994422793388367, 0.999259889125824, 0.9918668866157532, 0.10805057734251022, 0.8877435326576233, 0.004033888224512339, 0.999833881855011, 0.9944570064544678, 0.501229465007782, 0.3659135401248932, 0.04764081910252571, 0.08487272262573242, 0.998483419418335, 0.9932161569595337, 0.9972367882728577, 0.9994660019874573, 0.9970663189888, 0.9987878203392029, 0.961301326751709, 0.9991254806518555, 0.9952419400215149, 0.9983604550361633, 0.9998149871826172, 0.03140746057033539, 0.9675524234771729, 0.1614573895931244, 0.8124423027038574, 0.026245612651109695, 0.9983043670654297, 0.990888237953186, 0.9975265860557556, 0.21340474486351013, 0.7793912291526794, 0.49343976378440857, 0.3801555931568146, 0.032133493572473526, 0.09422194212675095, 0.9437576532363892, 0.7622347474098206, 0.060632310807704926, 0.1775660514831543, 0.4238005578517914, 0.5759043097496033, 0.971682608127594, 0.9989490509033203, 0.2927408218383789, 0.6759927272796631, 0.03105400688946247, 0.7602249383926392, 0.22237873077392578, 0.016992393881082535, 0.8767125606536865, 0.03311372548341751, 0.009079569950699806, 0.08091498911380768, 0.994965136051178, 0.9993623495101929, 0.9998284578323364, 0.9993909597396851, 0.9885192513465881, 0.05640145018696785, 0.28920742869377136, 0.19440500438213348, 0.45961183309555054, 0.9951450824737549, 0.9993235468864441, 0.9987866878509521, 0.3265319764614105, 0.5078135132789612, 0.08647467195987701, 0.07881806045770645, 0.9290892481803894, 0.06431803107261658, 0.006584940943866968, 0.9900069832801819, 0.08121354877948761, 0.18335328996181488, 0.5939052104949951, 0.14150090515613556, 0.9928608536720276, 0.5871677398681641, 0.4113313853740692, 0.08177583664655685, 0.9178991317749023, 0.9930306077003479, 0.9982482194900513, 0.9187729954719543, 0.08070739358663559, 0.9954541921615601, 0.997731626033783, 0.9992336630821228, 0.9954530596733093, 0.988123893737793, 0.9973977208137512, 0.1072038859128952, 0.35663866996765137, 0.06580832600593567, 0.03502701222896576, 0.24094338715076447, 0.19317927956581116, 0.9865086674690247, 0.20098276436328888, 0.13398851454257965, 0.6652685403823853, 0.9997981786727905, 0.27617213129997253, 0.7232917547225952, 0.9646815061569214, 0.7191132307052612, 0.0138431116938591, 0.26666203141212463, 0.9575097560882568, 0.9987615346908569, 0.2922475337982178, 0.3184748888015747, 0.3889140486717224, 0.07616091519594193, 0.922950029373169, 0.9878089427947998, 0.9959168434143066, 0.0029378794133663177, 0.4117927551269531, 0.029378794133663177, 0.5557488203048706, 0.9948143362998962, 0.9909334182739258, 0.9932654500007629, 0.9589300155639648, 0.9837351441383362, 0.04741101711988449, 0.6492520570755005, 0.3028727173805237, 0.669570803642273, 0.33002543449401855, 0.9978650212287903, 0.10613436251878738, 0.8929926156997681, 0.9830006957054138, 0.3293062448501587, 0.6562864184379578, 0.013956470414996147, 0.9956983327865601, 0.9934415221214294, 0.9993780255317688, 0.3751283884048462, 0.6243111491203308, 0.999144971370697, 0.9951095581054688, 0.9981812834739685, 0.08352980762720108, 0.9161900877952576, 0.999366819858551, 0.9808777570724487, 0.9885720014572144, 0.16499905288219452, 0.8341228365898132, 0.9965030550956726, 0.9936963319778442, 0.990484356880188, 0.9920278191566467, 0.94371497631073, 0.9995542764663696, 0.9988421201705933, 0.9993496537208557, 0.9428837299346924, 0.05607876926660538, 0.9954318404197693, 0.645652711391449, 0.3522771894931793, 0.0016990861622616649, 0.9987919926643372, 0.34959617257118225, 0.6484445333480835, 0.9467894434928894, 0.9991294145584106, 0.5769125819206238, 0.1926722526550293, 0.032572098076343536, 0.055759016424417496, 0.14188185334205627, 0.31182923913002014, 0.09947926551103592, 0.13008826971054077, 0.45722201466560364, 0.988198459148407, 0.9801134467124939, 0.9919131994247437, 0.9502184391021729, 0.711612343788147, 0.011346894316375256, 0.08699285238981247, 0.18965522944927216, 0.999396026134491, 0.9948733448982239, 0.952816367149353, 0.9985824823379517, 0.9982214570045471, 0.9985835552215576, 0.9997490048408508, 0.9985875487327576, 0.9679853916168213, 0.9920713305473328, 0.9819605350494385, 0.3332904577255249, 0.6665809154510498, 0.9880497455596924, 0.9950450658798218, 0.9977056980133057, 0.9985716342926025, 0.9995679259300232, 0.5614422559738159, 0.4381065368652344, 0.23013736307621002, 0.2024516761302948, 0.2699355483055115, 0.2976212501525879, 0.998120903968811, 0.9970212578773499, 0.9987084269523621, 0.5463993549346924, 0.4534970819950104, 0.8932896256446838, 0.10536714643239975, 0.998435914516449, 0.6203716397285461, 0.37967318296432495, 0.9971493482589722, 0.9940623044967651, 0.9990569353103638, 0.994973361492157, 0.016409097239375114, 0.9831783771514893, 0.9968910217285156, 0.7432412505149841, 0.256655216217041, 0.9987238049507141, 0.4483087658882141, 0.1095554530620575, 0.44186434149742126, 0.9994903206825256, 0.9993399381637573, 0.9886762499809265, 0.9527829885482788, 0.04695204645395279, 0.984255313873291, 0.0274309441447258, 0.9721526503562927, 0.9991495609283447, 0.589940071105957, 0.3833983540534973, 0.026340343058109283, 0.5663201808929443, 0.43332740664482117, 0.17183135449886322, 0.826568067073822, 0.6589077115058899, 0.27088427543640137, 0.027631614357233047, 0.042510177940130234, 0.31966763734817505, 0.679293692111969, 0.9992251992225647, 0.998918890953064, 0.997258186340332, 0.9989544153213501, 0.05358968302607536, 0.06111104041337967, 0.7634179592132568, 0.12222208082675934, 0.9991433024406433, 0.9999459981918335, 0.9913946986198425, 0.9946747422218323, 0.3670671582221985, 0.6326863765716553, 0.9995584487915039, 0.9857035875320435, 0.04585948586463928, 0.9524662494659424, 0.994743287563324, 0.5147844552993774, 0.020244332030415535, 0.4646556079387665, 0.9991046786308289, 0.992083728313446, 0.08704110234975815, 0.8294411301612854, 0.03299909830093384, 0.05037543550133705, 0.08938485383987427, 0.11545544117689133, 0.2085646688938141, 0.5865880846977234, 0.9917760491371155, 0.999514102935791, 0.050441574305295944, 0.9185397624969482, 0.030979866161942482, 0.9973804354667664, 0.9992271065711975, 0.9985786080360413, 0.9923836588859558, 0.577420175075531, 0.4164998233318329, 0.9978357553482056, 0.9935728907585144, 0.499737948179245, 0.5000174045562744, 0.9991133213043213, 0.9975270628929138, 0.9986010789871216, 0.9904678463935852, 0.9977550506591797, 0.9943439960479736, 0.4557422399520874, 0.48612508177757263, 0.057727351784706116, 0.9420836567878723, 0.40342071652412415, 0.5964202284812927, 0.9978612065315247, 0.9970065355300903, 0.10160168260335922, 0.26003143191337585, 0.6354410648345947, 0.9852917790412903, 0.12366493046283722, 0.24793457984924316, 0.6283025145530701, 0.9962180852890015, 0.9995824694633484, 0.6779618859291077, 0.29957345128059387, 0.022190624848008156, 0.1349887102842331, 0.13277578353881836, 0.046471524983644485, 0.6837953329086304, 0.9994857907295227, 0.6152399778366089, 0.3754006624221802, 0.9959078431129456, 0.11831618845462799, 0.8786072731018066], \"Term\": [\"accessori\", \"account\", \"account\", \"addict\", \"adjust\", \"aegi\", \"aerospac\", \"affin\", \"agent\", \"agonist\", \"airflow\", \"alien\", \"also\", \"also\", \"also\", \"also\", \"amazon\", \"amp\", \"amp\", \"amp\", \"amp\", \"anandamid\", \"anvil\", \"anxieti\", \"anyon\", \"anyon\", \"anyon\", \"appreci\", \"aquila\", \"archiv\", \"arsenic\", \"aspect\", \"assum\", \"atom\", \"aurora\", \"authent\", \"aveng\", \"back\", \"back\", \"back\", \"balanc\", \"balanc\", \"ban\", \"banu\", \"batteri\", \"batteri\", \"beer\", \"beginn\", \"beginn\", \"best\", \"best\", \"best\", \"best\", \"better\", \"better\", \"better\", \"bf\", \"bho\", \"bind\", \"blue\", \"blue\", \"blue\", \"blue\", \"bottl\", \"bottom\", \"bought\", \"box\", \"box\", \"brand\", \"brass\", \"break\", \"bring\", \"btc\", \"build\", \"build\", \"bundl\", \"burn\", \"button\", \"buy\", \"buy\", \"ca\", \"ca\", \"ca\", \"call\", \"cannabi\", \"cannabinoid\", \"cap\", \"capac\", \"carcinogen\", \"card\", \"card\", \"caterpillar\", \"cb\", \"cbd\", \"cbg\", \"cbn\", \"channel\", \"channel\", \"cheaper\", \"cigarett\", \"citat\", \"citi\", \"citi\", \"classic\", \"clean\", \"close\", \"cloud\", \"code\", \"code\", \"code\", \"coil\", \"coil\", \"coil\", \"color\", \"color\", \"com\", \"com\", \"com\", \"come\", \"come\", \"come\", \"come\", \"comment\", \"comment\", \"comment\", \"compact\", \"compat\", \"comput\", \"conclud\", \"constel\", \"cough\", \"could\", \"could\", \"craft\", \"crap\", \"creme\", \"crypto\", \"cucumb\", \"cyclon\", \"dab\", \"daili\", \"daili\", \"day\", \"day\", \"day\", \"de\", \"deck\", \"defend\", \"delet\", \"democrat\", \"design\", \"desk\", \"digit\", \"discuss\", \"discuss\", \"drake\", \"dri\", \"drip\", \"drug\", \"ds\", \"dual\", \"dynam\", \"ebay\", \"ecig\", \"effect\", \"ego\", \"ejuic\", \"elegomal\", \"empti\", \"endocannabinoid\", \"especi\", \"eth\", \"ether\", \"even\", \"even\", \"everyth\", \"everyth\", \"exclus\", \"explor\", \"expos\", \"extract\", \"fake\", \"fantasi\", \"featur\", \"feb\", \"februari\", \"feel\", \"feel\", \"feel\", \"feel\", \"felt\", \"fine\", \"fire\", \"fire\", \"fire\", \"first\", \"first\", \"fl\", \"flavor\", \"flavour\", \"forgot\", \"friend\", \"friend\", \"front\", \"fuck\", \"fun\", \"fvape\", \"game\", \"game\", \"game\", \"gay\", \"gb\", \"gc\", \"get\", \"get\", \"get\", \"ghoul\", \"gif\", \"gift\", \"girl\", \"girl\", \"go\", \"go\", \"go\", \"gone\", \"good\", \"good\", \"got\", \"got\", \"gotta\", \"gt\", \"gt\", \"gt\", \"guid\", \"half\", \"harm\", \"help\", \"help\", \"help\", \"hi\", \"high\", \"high\", \"high\", \"highway\", \"hit\", \"hit\", \"hit\", \"home\", \"honor\", \"hornet\", \"hour\", \"hull\", \"id\", \"idiot\", \"im\", \"imgur\", \"imgur\", \"imgur\", \"includ\", \"includ\", \"includ\", \"index\", \"intern\", \"intern\", \"invent\", \"iphon\", \"isopren\", \"istick\", \"juic\", \"juic\", \"jumpwork\", \"juul\", \"key\", \"king\", \"kink\", \"kit\", \"kit\", \"kit\", \"kit\", \"knowledg\", \"late\", \"late\", \"launch\", \"lead\", \"least\", \"leftov\", \"legit\", \"life\", \"life\", \"lighter\", \"like\", \"like\", \"link\", \"link\", \"link\", \"link\", \"liquid\", \"live\", \"logo\", \"look\", \"look\", \"look\", \"lti\", \"macbook\", \"make\", \"make\", \"make\", \"make\", \"mango\", \"member\", \"menthol\", \"merchantman\", \"mesh\", \"mg\", \"mice\", \"mind\", \"mint\", \"minut\", \"misc\", \"mm\", \"mm\", \"mod\", \"mod\", \"mod\", \"mode\", \"molecul\", \"mom\", \"monitor\", \"monitor\", \"month\", \"month\", \"month\", \"month\", \"moral\", \"mr\", \"mr\", \"mr\", \"much\", \"much\", \"narrat\", \"nbsp\", \"need\", \"need\", \"need\", \"never\", \"never\", \"never\", \"new\", \"new\", \"new\", \"new\", \"nic\", \"night\", \"none\", \"nox\", \"ny\", \"offer\", \"offer\", \"offer\", \"offer\", \"oh\", \"ohm\", \"oil\", \"one\", \"one\", \"one\", \"one\", \"origin\", \"origin\", \"origin\", \"oven\", \"pack\", \"pack\", \"pack\", \"pack\", \"pair\", \"pass\", \"pass\", \"paypal\", \"paypal\", \"pc\", \"pen\", \"peopl\", \"peopl\", \"per\", \"perform\", \"pic\", \"pink\", \"plane\", \"play\", \"pleas\", \"pleas\", \"pleas\", \"pleas\", \"pleas\", \"pleas\", \"plenti\", \"pm\", \"pm\", \"pm\", \"png\", \"pod\", \"pod\", \"podcast\", \"point\", \"point\", \"point\", \"poli\", \"porn\", \"post\", \"post\", \"post\", \"power\", \"power\", \"premium\", \"pro\", \"product\", \"product\", \"product\", \"product\", \"ps\", \"psn\", \"puls\", \"punish\", \"pussi\", \"question\", \"question\", \"question\", \"quit\", \"quit\", \"rang\", \"rda\", \"rda\", \"realis\", \"realli\", \"realli\", \"realli\", \"rebuild\", \"receptor\", \"recommend\", \"reddit\", \"reddit\", \"relat\", \"relationship\", \"rememb\", \"remov\", \"remov\", \"replac\", \"restaur\", \"retail\", \"review\", \"review\", \"ring\", \"rise\", \"rock\", \"rose\", \"royal\", \"rsi\", \"rta\", \"sabr\", \"said\", \"said\", \"salt\", \"say\", \"say\", \"say\", \"school\", \"scienc\", \"scienc\", \"scope\", \"screen\", \"see\", \"see\", \"see\", \"see\", \"see\", \"sell\", \"sell\", \"sell\", \"sell\", \"sexi\", \"sexual\", \"shake\", \"shield\", \"ship\", \"ship\", \"ship\", \"ship\", \"shit\", \"silver\", \"sip\", \"sleep\", \"smell\", \"smok\", \"smoke\", \"smoker\", \"snort\", \"social\", \"solvent\", \"someth\", \"someth\", \"soul\", \"sport\", \"squonk\", \"ss\", \"starfar\", \"start\", \"start\", \"starter\", \"starter\", \"starter\", \"starter\", \"state\", \"steam\", \"stick\", \"still\", \"still\", \"stop\", \"stop\", \"strawberri\", \"sub\", \"sub\", \"submiss\", \"suck\", \"suggest\", \"suorin\", \"switch\", \"switch\", \"ta\", \"take\", \"take\", \"talk\", \"tank\", \"tank\", \"tank\", \"tast\", \"tc\", \"teen\", \"tell\", \"tell\", \"tend\", \"thank\", \"thank\", \"thc\", \"thing\", \"thing\", \"thing\", \"think\", \"think\", \"thread\", \"thread\", \"time\", \"time\", \"time\", \"time\", \"tip\", \"tip\", \"tobacco\", \"told\", \"toler\", \"took\", \"top\", \"top\", \"top\", \"top\", \"tour\", \"tr\", \"trade\", \"travel\", \"tri\", \"tri\", \"tumbril\", \"twitter\", \"uk\", \"uk\", \"upon\", \"us\", \"us\", \"us\", \"usa\", \"usd\", \"use\", \"use\", \"use\", \"use\", \"user\", \"user\", \"user\", \"user\", \"va\", \"vanguard\", \"vape\", \"vape\", \"vape\", \"vaper\", \"vapor\", \"vendor\", \"venmo\", \"verifi\", \"verifi\", \"vs\", \"wallet\", \"want\", \"want\", \"watch\", \"websit\", \"weed\", \"what\", \"wick\", \"wiki\", \"work\", \"work\", \"work\", \"worker\", \"would\", \"would\", \"wrong\", \"wtb\", \"wts\", \"wts\", \"wts\", \"ww\", \"www\", \"www\", \"www\", \"xbox\", \"xymarket\", \"year\", \"year\", \"year\", \"yes\", \"yes\", \"yes\", \"yes\", \"yi\", \"york\", \"york\", \"youtu\", \"youtub\", \"youtub\"]}, \"R\": 30, \"lambda.step\": 0.01, \"plot.opts\": {\"xlab\": \"PC1\", \"ylab\": \"PC2\"}, \"topic.order\": [7, 3, 5, 6, 9, 4, 2, 8, 10, 1]};\n",
       "\n",
       "function LDAvis_load_lib(url, callback){\n",
       "  var s = document.createElement('script');\n",
       "  s.src = url;\n",
       "  s.async = true;\n",
       "  s.onreadystatechange = s.onload = callback;\n",
       "  s.onerror = function(){console.warn(\"failed to load library \" + url);};\n",
       "  document.getElementsByTagName(\"head\")[0].appendChild(s);\n",
       "}\n",
       "\n",
       "if(typeof(LDAvis) !== \"undefined\"){\n",
       "   // already loaded: just create the visualization\n",
       "   !function(LDAvis){\n",
       "       new LDAvis(\"#\" + \"ldavis_el14179140111414029792901953543\", ldavis_el14179140111414029792901953543_data);\n",
       "   }(LDAvis);\n",
       "}else if(typeof define === \"function\" && define.amd){\n",
       "   // require.js is available: use it to load d3/LDAvis\n",
       "   require.config({paths: {d3: \"https://cdnjs.cloudflare.com/ajax/libs/d3/3.5.5/d3.min\"}});\n",
       "   require([\"d3\"], function(d3){\n",
       "      window.d3 = d3;\n",
       "      LDAvis_load_lib(\"https://cdn.rawgit.com/bmabey/pyLDAvis/files/ldavis.v1.0.0.js\", function(){\n",
       "        new LDAvis(\"#\" + \"ldavis_el14179140111414029792901953543\", ldavis_el14179140111414029792901953543_data);\n",
       "      });\n",
       "    });\n",
       "}else{\n",
       "    // require.js not available: dynamically load d3 & LDAvis\n",
       "    LDAvis_load_lib(\"https://cdnjs.cloudflare.com/ajax/libs/d3/3.5.5/d3.min.js\", function(){\n",
       "         LDAvis_load_lib(\"https://cdn.rawgit.com/bmabey/pyLDAvis/files/ldavis.v1.0.0.js\", function(){\n",
       "                 new LDAvis(\"#\" + \"ldavis_el14179140111414029792901953543\", ldavis_el14179140111414029792901953543_data);\n",
       "            })\n",
       "         });\n",
       "}\n",
       "</script>"
      ],
      "text/plain": [
       "PreparedData(topic_coordinates=              x         y  topics  cluster       Freq\n",
       "topic                                                \n",
       "6      0.273895 -0.216245       1        1  29.331020\n",
       "2      0.308010 -0.154271       2        1  28.288877\n",
       "4      0.102030  0.346904       3        1  18.993116\n",
       "5      0.171632  0.085500       4        1  11.293726\n",
       "8     -0.106252  0.105655       5        1   3.557200\n",
       "3      0.025000  0.122259       6        1   3.067681\n",
       "1     -0.113617  0.009553       7        1   3.033390\n",
       "7     -0.217624 -0.095245       8        1   1.322195\n",
       "9     -0.225151 -0.100120       9        1   0.739658\n",
       "0     -0.217921 -0.103990      10        1   0.373143, topic_info=      Category          Freq        Term         Total  loglift  logprob\n",
       "686    Default  13051.000000         com  13051.000000  30.0000  30.0000\n",
       "50     Default  15106.000000        vape  15106.000000  29.0000  29.0000\n",
       "4      Default   4483.000000        none   4483.000000  28.0000  28.0000\n",
       "3      Default   4364.000000        juul   4364.000000  27.0000  27.0000\n",
       "244    Default   5552.000000     comment   5552.000000  26.0000  26.0000\n",
       "1989   Default   7517.000000          tr   7517.000000  25.0000  25.0000\n",
       "1854   Default   7362.000000         lti   7362.000000  24.0000  24.0000\n",
       "1914   Default   6464.000000         png   6464.000000  23.0000  23.0000\n",
       "5922   Default   3132.000000    xymarket   3132.000000  22.0000  22.0000\n",
       "673    Default   3307.000000         www   3307.000000  21.0000  21.0000\n",
       "1147   Default   8243.000000       imgur   8243.000000  20.0000  20.0000\n",
       "211    Default   2936.000000         pod   2936.000000  19.0000  19.0000\n",
       "1492   Default   2885.000000      paypal   2885.000000  18.0000  18.0000\n",
       "37     Default   6530.000000      origin   6530.000000  17.0000  17.0000\n",
       "74     Default   4267.000000         mod   4267.000000  16.0000  16.0000\n",
       "1686   Default   4350.000000        aegi   4350.000000  15.0000  15.0000\n",
       "166    Default   4507.000000       smoke   4507.000000  14.0000  14.0000\n",
       "68     Default   2073.000000         hit   2073.000000  13.0000  13.0000\n",
       "1488   Default   3174.000000        misc   3174.000000  12.0000  12.0000\n",
       "232    Default   3744.000000         new   3744.000000  11.0000  11.0000\n",
       "1694   Default   3028.000000       anvil   3028.000000  10.0000  10.0000\n",
       "1068   Default   2642.000000     batteri   2642.000000   9.0000   9.0000\n",
       "1771   Default   2723.000000       dynam   2723.000000   8.0000   8.0000\n",
       "505    Default   1476.000000      reddit   1476.000000   7.0000   7.0000\n",
       "250    Default   1792.000000    question   1792.000000   6.0000   6.0000\n",
       "160    Default   4440.000000         one   4440.000000   5.0000   5.0000\n",
       "136    Default    894.000000          mg    894.000000   4.0000   4.0000\n",
       "59     Default   4258.000000        coil   4258.000000   3.0000   3.0000\n",
       "1757   Default   2473.000000      cyclon   2473.000000   2.0000   2.0000\n",
       "30     Default   7233.000000        like   7233.000000   1.0000   1.0000\n",
       "...        ...           ...         ...           ...      ...      ...\n",
       "807    Topic10    163.642197         fun    164.565918   5.5853  -3.1064\n",
       "802    Topic10    155.122223        lead    156.045822   5.5850  -3.1599\n",
       "801    Topic10    146.669678      compat    147.593597   5.5847  -3.2159\n",
       "294    Topic10     83.608948        rise     84.532867   5.5800  -3.7779\n",
       "2166   Topic10     80.509743      travel     81.433655   5.5796  -3.8157\n",
       "7842   Topic10     74.947136          ny     75.871056   5.5787  -3.8873\n",
       "10     Topic10     71.999359        beer     72.922951   5.5782  -3.9274\n",
       "2152   Topic10     53.027946    februari     53.951614   5.5737  -4.2333\n",
       "7158   Topic10     39.736977       pussi     40.661350   5.5680  -4.5218\n",
       "806    Topic10     33.242104         feb     34.165909   5.5636  -4.7003\n",
       "3591   Topic10     32.745766      sexual     33.669571   5.5631  -4.7153\n",
       "5555   Topic10     31.450945        poli     32.375648   5.5620  -4.7557\n",
       "10848  Topic10     24.804838      narrat     25.728565   5.5544  -4.9931\n",
       "3277   Topic10     21.864058     fantasi     22.787769   5.5496  -5.1192\n",
       "3005   Topic10     19.728788       craft     20.652657   5.5452  -5.2220\n",
       "10811  Topic10     18.148474       moral     19.072693   5.5413  -5.3055\n",
       "4582   Topic10     15.914671      shield     16.838234   5.5346  -5.4369\n",
       "10876  Topic10     15.794481    democrat     16.717999   5.5341  -5.4444\n",
       "177    Topic10     14.997115     highway     15.920668   5.5312  -5.4962\n",
       "5086   Topic10     14.998034      worker     15.922153   5.5312  -5.4962\n",
       "10894  Topic10     14.970892       royal     15.894629   5.5311  -5.4980\n",
       "2149   Topic10     14.637738  carcinogen     15.561211   5.5298  -5.5205\n",
       "6996   Topic10     14.625409     podcast     15.549173   5.5297  -5.5213\n",
       "10419  Topic10     13.887653       honor     14.811230   5.5266  -5.5731\n",
       "3300   Topic10     13.276681        kink     14.200410   5.5237  -5.6181\n",
       "7157   Topic10     11.590267      punish     12.513947   5.5143  -5.7539\n",
       "13787  Topic10     11.577271     arsenic     12.501884   5.5141  -5.7550\n",
       "7189   Topic10     11.059908      archiv     11.984472   5.5107  -5.8008\n",
       "40     Topic10     10.621028         sip     11.544722   5.5076  -5.8413\n",
       "2039   Topic10     36.390785        york     95.897537   4.6220  -4.6098\n",
       "\n",
       "[482 rows x 6 columns], token_table=       Topic      Freq       Term\n",
       "term                             \n",
       "2254       6  0.987054  accessori\n",
       "306        1  0.121824    account\n",
       "306        8  0.876095    account\n",
       "2158       7  0.998381     addict\n",
       "1060       4  0.996576     adjust\n",
       "1686       3  0.999870       aegi\n",
       "1687       3  0.999551   aerospac\n",
       "3152       9  0.984996      affin\n",
       "8282       9  0.976835      agent\n",
       "10977      9  0.962959    agonist\n",
       "674        4  0.998393    airflow\n",
       "212        7  0.998225      alien\n",
       "307        1  0.353566       also\n",
       "307        2  0.419665       also\n",
       "307        3  0.040280       also\n",
       "307        4  0.186250       also\n",
       "5247       5  0.999259     amazon\n",
       "675        3  0.257350        amp\n",
       "675        4  0.598696        amp\n",
       "675        5  0.092575        amp\n",
       "675        6  0.051113        amp\n",
       "27703      9  0.985828  anandamid\n",
       "1694       3  0.999853      anvil\n",
       "552        1  0.998552    anxieti\n",
       "767        1  0.216849      anyon\n",
       "767        2  0.709461      anyon\n",
       "767        7  0.072701      anyon\n",
       "401        2  0.998487    appreci\n",
       "1697       3  0.998653     aquila\n",
       "7189      10  0.917854     archiv\n",
       "...      ...       ...        ...\n",
       "131        1  0.455742       work\n",
       "131        2  0.486125       work\n",
       "131        4  0.057727       work\n",
       "5086      10  0.942084     worker\n",
       "142        1  0.403421      would\n",
       "142        2  0.596420      would\n",
       "835        2  0.997861      wrong\n",
       "842        7  0.997007        wtb\n",
       "815        3  0.101602        wts\n",
       "815        5  0.260031        wts\n",
       "815        7  0.635441        wts\n",
       "6088       7  0.985292         ww\n",
       "673        3  0.123665        www\n",
       "673        4  0.247935        www\n",
       "673        6  0.628303        www\n",
       "5909       5  0.996218       xbox\n",
       "5922       5  0.999582   xymarket\n",
       "176        1  0.677962       year\n",
       "176        2  0.299573       year\n",
       "176        3  0.022191       year\n",
       "1040       1  0.134989        yes\n",
       "1040       3  0.132776        yes\n",
       "1040       4  0.046472        yes\n",
       "1040       8  0.683795        yes\n",
       "2036       3  0.999486         yi\n",
       "2039       3  0.615240       york\n",
       "2039      10  0.375401       york\n",
       "6176       6  0.995908      youtu\n",
       "1473       2  0.118316     youtub\n",
       "1473       6  0.878607     youtub\n",
       "\n",
       "[640 rows x 3 columns], R=30, lambda_step=0.01, plot_opts={'xlab': 'PC1', 'ylab': 'PC2'}, topic_order=[7, 3, 5, 6, 9, 4, 2, 8, 10, 1])"
      ]
     },
     "execution_count": 25,
     "metadata": {},
     "output_type": "execute_result"
    }
   ],
   "source": [
    "# Visualize the topics\n",
    "pyLDAvis.enable_notebook()\n",
    "vis = pyLDAvis.gensim.prepare(lda_model, corpus, id2word)\n",
    "vis"
   ]
  },
  {
   "cell_type": "code",
   "execution_count": null,
   "metadata": {},
   "outputs": [],
   "source": []
  }
 ],
 "metadata": {
  "kernelspec": {
   "display_name": "Python 3",
   "language": "python",
   "name": "python3"
  },
  "language_info": {
   "codemirror_mode": {
    "name": "ipython",
    "version": 3
   },
   "file_extension": ".py",
   "mimetype": "text/x-python",
   "name": "python",
   "nbconvert_exporter": "python",
   "pygments_lexer": "ipython3",
   "version": "3.6.7"
  }
 },
 "nbformat": 4,
 "nbformat_minor": 2
}
