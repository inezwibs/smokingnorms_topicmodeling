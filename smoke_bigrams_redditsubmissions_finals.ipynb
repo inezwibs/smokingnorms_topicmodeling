{
 "cells": [
  {
   "cell_type": "code",
   "execution_count": 1,
   "metadata": {},
   "outputs": [],
   "source": [
    "import pandas as pd\n",
    "import requests\n",
    "import json\n",
    "import csv\n",
    "import time\n",
    "import datetime"
   ]
  },
  {
   "cell_type": "code",
   "execution_count": 2,
   "metadata": {},
   "outputs": [],
   "source": [
    "def getPushshiftData(query, after, before):\n",
    "    url = 'https://api.pushshift.io/reddit/search/submission/?q='+str(query)+'&size=1000&after='+str(after)+'&before='+str(before)+'&sort='+str(sorttype)+'&filter='+str(fil)\n",
    "    print(url)\n",
    "    r = requests.get(url)\n",
    "    data = json.loads(r.text)\n",
    "    return data['data']\n",
    "\n",
    "\n"
   ]
  },
  {
   "cell_type": "code",
   "execution_count": 3,
   "metadata": {},
   "outputs": [],
   "source": [
    "#Filter to query\n",
    "fil='title,selftext,created_utc'\n",
    "sorttype='asc'\n",
    "#before and after dates\n",
    "before = \"1519862400\" #January 1st 2018 12:01AM \n",
    "after = \"1514764860\"  #March 1st 2018 12 AM\n",
    "query ='\"cigarette%20smoking\"|\"smoking%20cigarette\"|\"vaping\"|ecig|e-cig|juul|\"chain%20smok\"|\"parliament%20lights\"|\"lucky%20cig\"|\"laramie%20cig\"|\"kamel%20red\"|\"cancer%20stick\"|\"camel%20crush\"|\"lung%20dart\"|\"fake%20smoker\"|\"cowboy%20killers\"|\"burn%20one\"|\"kamel%20red\"|\"marlboro%20menthol\"|\"marlboro%20lights\"|\"lucky%20strikes\"|\"joe%20camel\"'\n",
    "subCount = 0\n",
    "subStats = {}"
   ]
  },
  {
   "cell_type": "code",
   "execution_count": 4,
   "metadata": {},
   "outputs": [],
   "source": [
    "def collectSubData(com):\n",
    "    subData = list() #list to store data points\n",
    "    title = com['title']\n",
    "    created = datetime.datetime.fromtimestamp(com['created_utc']) #1520561700.0\n",
    "    \n",
    "    subData.append((title,created))\n"
   ]
  },
  {
   "cell_type": "code",
   "execution_count": 5,
   "metadata": {},
   "outputs": [
    {
     "name": "stdout",
     "output_type": "stream",
     "text": [
      "https://api.pushshift.io/reddit/search/submission/?q=\"cigarette%20smoking\"|\"smoking%20cigarette\"|\"vaping\"|ecig|e-cig|juul|\"chain%20smok\"|\"parliament%20lights\"|\"lucky%20cig\"|\"laramie%20cig\"|\"kamel%20red\"|\"cancer%20stick\"|\"camel%20crush\"|\"lung%20dart\"|\"fake%20smoker\"|\"cowboy%20killers\"|\"burn%20one\"|\"kamel%20red\"|\"marlboro%20menthol\"|\"marlboro%20lights\"|\"lucky%20strikes\"|\"joe%20camel\"&size=1000&after=1514764860&before=1519862400&sort=asc&filter=title,selftext,created_utc\n",
      "1000\n",
      "2018-01-07 06:42:47\n",
      "https://api.pushshift.io/reddit/search/submission/?q=\"cigarette%20smoking\"|\"smoking%20cigarette\"|\"vaping\"|ecig|e-cig|juul|\"chain%20smok\"|\"parliament%20lights\"|\"lucky%20cig\"|\"laramie%20cig\"|\"kamel%20red\"|\"cancer%20stick\"|\"camel%20crush\"|\"lung%20dart\"|\"fake%20smoker\"|\"cowboy%20killers\"|\"burn%20one\"|\"kamel%20red\"|\"marlboro%20menthol\"|\"marlboro%20lights\"|\"lucky%20strikes\"|\"joe%20camel\"&size=1000&after=1515336167&before=1519862400&sort=asc&filter=title,selftext,created_utc\n",
      "1000\n",
      "2018-01-13 03:48:58\n",
      "https://api.pushshift.io/reddit/search/submission/?q=\"cigarette%20smoking\"|\"smoking%20cigarette\"|\"vaping\"|ecig|e-cig|juul|\"chain%20smok\"|\"parliament%20lights\"|\"lucky%20cig\"|\"laramie%20cig\"|\"kamel%20red\"|\"cancer%20stick\"|\"camel%20crush\"|\"lung%20dart\"|\"fake%20smoker\"|\"cowboy%20killers\"|\"burn%20one\"|\"kamel%20red\"|\"marlboro%20menthol\"|\"marlboro%20lights\"|\"lucky%20strikes\"|\"joe%20camel\"&size=1000&after=1515844138&before=1519862400&sort=asc&filter=title,selftext,created_utc\n",
      "1000\n",
      "2018-01-19 02:50:19\n",
      "https://api.pushshift.io/reddit/search/submission/?q=\"cigarette%20smoking\"|\"smoking%20cigarette\"|\"vaping\"|ecig|e-cig|juul|\"chain%20smok\"|\"parliament%20lights\"|\"lucky%20cig\"|\"laramie%20cig\"|\"kamel%20red\"|\"cancer%20stick\"|\"camel%20crush\"|\"lung%20dart\"|\"fake%20smoker\"|\"cowboy%20killers\"|\"burn%20one\"|\"kamel%20red\"|\"marlboro%20menthol\"|\"marlboro%20lights\"|\"lucky%20strikes\"|\"joe%20camel\"&size=1000&after=1516359019&before=1519862400&sort=asc&filter=title,selftext,created_utc\n",
      "1000\n",
      "2018-01-24 22:34:57\n",
      "https://api.pushshift.io/reddit/search/submission/?q=\"cigarette%20smoking\"|\"smoking%20cigarette\"|\"vaping\"|ecig|e-cig|juul|\"chain%20smok\"|\"parliament%20lights\"|\"lucky%20cig\"|\"laramie%20cig\"|\"kamel%20red\"|\"cancer%20stick\"|\"camel%20crush\"|\"lung%20dart\"|\"fake%20smoker\"|\"cowboy%20killers\"|\"burn%20one\"|\"kamel%20red\"|\"marlboro%20menthol\"|\"marlboro%20lights\"|\"lucky%20strikes\"|\"joe%20camel\"&size=1000&after=1516862097&before=1519862400&sort=asc&filter=title,selftext,created_utc\n",
      "1000\n",
      "2018-01-30 22:03:38\n",
      "https://api.pushshift.io/reddit/search/submission/?q=\"cigarette%20smoking\"|\"smoking%20cigarette\"|\"vaping\"|ecig|e-cig|juul|\"chain%20smok\"|\"parliament%20lights\"|\"lucky%20cig\"|\"laramie%20cig\"|\"kamel%20red\"|\"cancer%20stick\"|\"camel%20crush\"|\"lung%20dart\"|\"fake%20smoker\"|\"cowboy%20killers\"|\"burn%20one\"|\"kamel%20red\"|\"marlboro%20menthol\"|\"marlboro%20lights\"|\"lucky%20strikes\"|\"joe%20camel\"&size=1000&after=1517378618&before=1519862400&sort=asc&filter=title,selftext,created_utc\n",
      "1000\n",
      "2018-02-06 02:47:08\n",
      "https://api.pushshift.io/reddit/search/submission/?q=\"cigarette%20smoking\"|\"smoking%20cigarette\"|\"vaping\"|ecig|e-cig|juul|\"chain%20smok\"|\"parliament%20lights\"|\"lucky%20cig\"|\"laramie%20cig\"|\"kamel%20red\"|\"cancer%20stick\"|\"camel%20crush\"|\"lung%20dart\"|\"fake%20smoker\"|\"cowboy%20killers\"|\"burn%20one\"|\"kamel%20red\"|\"marlboro%20menthol\"|\"marlboro%20lights\"|\"lucky%20strikes\"|\"joe%20camel\"&size=1000&after=1517914028&before=1519862400&sort=asc&filter=title,selftext,created_utc\n",
      "1000\n",
      "2018-02-11 13:58:49\n",
      "https://api.pushshift.io/reddit/search/submission/?q=\"cigarette%20smoking\"|\"smoking%20cigarette\"|\"vaping\"|ecig|e-cig|juul|\"chain%20smok\"|\"parliament%20lights\"|\"lucky%20cig\"|\"laramie%20cig\"|\"kamel%20red\"|\"cancer%20stick\"|\"camel%20crush\"|\"lung%20dart\"|\"fake%20smoker\"|\"cowboy%20killers\"|\"burn%20one\"|\"kamel%20red\"|\"marlboro%20menthol\"|\"marlboro%20lights\"|\"lucky%20strikes\"|\"joe%20camel\"&size=1000&after=1518386329&before=1519862400&sort=asc&filter=title,selftext,created_utc\n",
      "1000\n",
      "2018-02-18 09:39:50\n",
      "https://api.pushshift.io/reddit/search/submission/?q=\"cigarette%20smoking\"|\"smoking%20cigarette\"|\"vaping\"|ecig|e-cig|juul|\"chain%20smok\"|\"parliament%20lights\"|\"lucky%20cig\"|\"laramie%20cig\"|\"kamel%20red\"|\"cancer%20stick\"|\"camel%20crush\"|\"lung%20dart\"|\"fake%20smoker\"|\"cowboy%20killers\"|\"burn%20one\"|\"kamel%20red\"|\"marlboro%20menthol\"|\"marlboro%20lights\"|\"lucky%20strikes\"|\"joe%20camel\"&size=1000&after=1518975590&before=1519862400&sort=asc&filter=title,selftext,created_utc\n",
      "1000\n",
      "2018-02-24 11:34:44\n",
      "https://api.pushshift.io/reddit/search/submission/?q=\"cigarette%20smoking\"|\"smoking%20cigarette\"|\"vaping\"|ecig|e-cig|juul|\"chain%20smok\"|\"parliament%20lights\"|\"lucky%20cig\"|\"laramie%20cig\"|\"kamel%20red\"|\"cancer%20stick\"|\"camel%20crush\"|\"lung%20dart\"|\"fake%20smoker\"|\"cowboy%20killers\"|\"burn%20one\"|\"kamel%20red\"|\"marlboro%20menthol\"|\"marlboro%20lights\"|\"lucky%20strikes\"|\"joe%20camel\"&size=1000&after=1519500884&before=1519862400&sort=asc&filter=title,selftext,created_utc\n",
      "708\n",
      "2018-02-28 15:54:40\n",
      "https://api.pushshift.io/reddit/search/submission/?q=\"cigarette%20smoking\"|\"smoking%20cigarette\"|\"vaping\"|ecig|e-cig|juul|\"chain%20smok\"|\"parliament%20lights\"|\"lucky%20cig\"|\"laramie%20cig\"|\"kamel%20red\"|\"cancer%20stick\"|\"camel%20crush\"|\"lung%20dart\"|\"fake%20smoker\"|\"cowboy%20killers\"|\"burn%20one\"|\"kamel%20red\"|\"marlboro%20menthol\"|\"marlboro%20lights\"|\"lucky%20strikes\"|\"joe%20camel\"&size=1000&after=1519862080&before=1519862400&sort=asc&filter=title,selftext,created_utc\n",
      "11\n"
     ]
    }
   ],
   "source": [
    "data = []\n",
    "data_frame = getPushshiftData(query, after, before)\n",
    "data.append(data_frame)\n",
    "\n",
    "# Will run until all posts have been gathered \n",
    "# from the 'after' date up until before date\n",
    "while len(data_frame) > 0:\n",
    "    for submission in data_frame:\n",
    "        collectSubData(submission)\n",
    "        subCount+=1\n",
    "    # Calls getPushshiftData() with the created date of the last submission\n",
    "    print(len(data_frame))\n",
    "    print(str(datetime.datetime.fromtimestamp(data_frame[-1]['created_utc'])))\n",
    "    after = data_frame[-1]['created_utc']\n",
    "    data_frame = getPushshiftData(query, after, before)\n",
    "    data.append(data_frame)\n",
    "\n",
    "with open('jsonDumpSubmissionBigrams2.json', 'w') as outfile:  \n",
    "    json.dump(data, outfile)\n",
    "    \n",
    "print(len(data))\n"
   ]
  },
  {
   "cell_type": "code",
   "execution_count": null,
   "metadata": {},
   "outputs": [],
   "source": []
  }
 ],
 "metadata": {
  "kernelspec": {
   "display_name": "Python 3",
   "language": "python",
   "name": "python3"
  },
  "language_info": {
   "codemirror_mode": {
    "name": "ipython",
    "version": 3
   },
   "file_extension": ".py",
   "mimetype": "text/x-python",
   "name": "python",
   "nbconvert_exporter": "python",
   "pygments_lexer": "ipython3",
   "version": "3.6.7"
  }
 },
 "nbformat": 4,
 "nbformat_minor": 2
}
